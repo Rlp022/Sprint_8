{
 "cells": [
  {
   "cell_type": "markdown",
   "metadata": {},
   "source": [
    "<div style=\"border-radius: 15px; border: 3px solid indigo; padding: 15px;\">\n",
    "<b> Reviewer's comment</b>\n",
    "    \n",
    "Hi, I am a reviewer on this project. \n",
    "    \n",
    "\n",
    "Before we start, I want to pay your attention to the color marking:\n",
    "    \n",
    "<div class=\"alert alert-success\" style=\"border-radius: 15px; box-shadow: 4px 4px 4px; border: 1px solid \">\n",
    "<b> Reviewer's comment ✔️</b>\n",
    "    \n",
    "Great solutions and ideas that can and should be used in the future are in green comments.   \n",
    "</div>    \n",
    "    \n",
    "    \n",
    "<div class=\"alert alert-warning\" style=\"border-radius: 15px; box-shadow: 4px 4px 4px; border: 1px solid \">\n",
    "<b> Reviewer's comment ⚠️</b>\n",
    "\n",
    "Yellow color indicates what should be optimized. This is not necessary, but it will be great if you make changes to this project.\n",
    "</div>      \n",
    "    \n",
    "    \n",
    "<div class=\"alert alert-danger\" style=\"border-radius: 15px; box-shadow: 4px 4px 4px; border: 1px solid \">\n",
    "<b> Reviewer's comment ❌</b>\n",
    "\n",
    "Issues that need to be corrected to get right results are indicated in red comments. Note that the project cannot be accepted until these issues are resolved.\n",
    "</div>    \n",
    "\n",
    "<hr>\n",
    "    \n",
    "**Please, use some color other than those listed to highlight answers to my comments.**\n",
    "I would also ask you **not to change, move or delete my comments** so that it would be easier for me to navigate during the next review.\n",
    "    \n",
    "In addition, my comments are defined as headings. \n",
    "They can mess up the content; however, they are convenient, since you can immediately go to them. I will remove the headings from my comments in the next review. \n",
    "   \n",
    "    \n",
    "    \n",
    "<hr>\n",
    "    \n",
    "<font color='dodgerblue'>**A few words about the project:**</font> you did a good job here, thank you so much! You compared several models and received scores, which is great. However, there are several issues we need to fix. I wrote everything in my comments. Please take a look.\n",
    "    \n",
    "    \n",
    "    \n",
    "\n",
    "</div>"
   ]
  },
  {
   "cell_type": "markdown",
   "metadata": {},
   "source": [
    "# Customer Churn Prediction Using Supervised Learning\n"
   ]
  },
  {
   "cell_type": "markdown",
   "metadata": {},
   "source": [
    "## Introduction"
   ]
  },
  {
   "cell_type": "markdown",
   "metadata": {},
   "source": [
    "Beta Bank is dealing with a customer churn issue. The goal of this project is to develop a predictive model to identify customers at risk of churning. By doing so, the bank can proactively address customer concerns and enhance retention. The model must achieve an F1 score of at least 0.59. Furthermore, we will evaluate the model using the AUC-ROC metric and compare its performance with the F1 score."
   ]
  },
  {
   "cell_type": "markdown",
   "metadata": {},
   "source": [
    "## Identifying At-Risk Customers at Beta Bank"
   ]
  },
  {
   "cell_type": "markdown",
   "metadata": {},
   "source": [
    "Beta Bank places a higher priority on retaining existing customers than on acquiring new ones and aims to predict which customers are likely to churn. To achieve this, a model will be trained using various customer characteristics and features. The bank requires an F1 score of at least 0.59, with higher scores being preferable. The model development process will include data preprocessing, selecting from Logistic Regression, Decision Tree, or Random Forest models, and adjusting for class imbalance. The final model will be tested, and if it meets the minimum F1 score requirement, it will be delivered to Beta Bank to aid in customer retention efforts."
   ]
  },
  {
   "cell_type": "markdown",
   "metadata": {},
   "source": [
    "<div class=\"alert alert-success\" style=\"border-radius: 15px; box-shadow: 4px 4px 4px; border: 1px solid \">\n",
    "<h2>   Reviewer's comment </h2>\n",
    "    \n",
    "Good introduction! \n",
    "    \n",
    "</div>"
   ]
  },
  {
   "cell_type": "markdown",
   "metadata": {},
   "source": [
    "## Load Libraries"
   ]
  },
  {
   "cell_type": "code",
   "execution_count": 32,
   "metadata": {},
   "outputs": [],
   "source": [
    "# import libraries \n",
    "import pandas as pd\n",
    "import numpy as np\n",
    "import matplotlib.pyplot as plt\n",
    "import seaborn as sns\n",
    "from sklearn.linear_model import LogisticRegression\n",
    "from sklearn.tree import DecisionTreeClassifier\n",
    "from sklearn.ensemble import RandomForestClassifier\n",
    "from sklearn.model_selection import train_test_split\n",
    "from sklearn.preprocessing import StandardScaler\n",
    "from sklearn.utils import shuffle\n",
    "from sklearn.metrics import recall_score\n",
    "from sklearn.metrics import precision_score\n",
    "from sklearn.metrics import f1_score\n",
    "from sklearn.metrics import roc_auc_score\n",
    "\n",
    "# Hide warning messages\n",
    "import warnings\n",
    "warnings.filterwarnings('ignore')"
   ]
  },
  {
   "cell_type": "markdown",
   "metadata": {},
   "source": [
    "## Load Data"
   ]
  },
  {
   "cell_type": "markdown",
   "metadata": {},
   "source": [
    "Read and store CSV in the Dataframe df"
   ]
  },
  {
   "cell_type": "code",
   "execution_count": 2,
   "metadata": {},
   "outputs": [],
   "source": [
    "df = pd.read_csv('/datasets/Churn.csv')"
   ]
  },
  {
   "cell_type": "markdown",
   "metadata": {},
   "source": [
    "## Exploring Data"
   ]
  },
  {
   "cell_type": "code",
   "execution_count": 3,
   "metadata": {},
   "outputs": [
    {
     "data": {
      "text/html": [
       "<div>\n",
       "<style scoped>\n",
       "    .dataframe tbody tr th:only-of-type {\n",
       "        vertical-align: middle;\n",
       "    }\n",
       "\n",
       "    .dataframe tbody tr th {\n",
       "        vertical-align: top;\n",
       "    }\n",
       "\n",
       "    .dataframe thead th {\n",
       "        text-align: right;\n",
       "    }\n",
       "</style>\n",
       "<table border=\"1\" class=\"dataframe\">\n",
       "  <thead>\n",
       "    <tr style=\"text-align: right;\">\n",
       "      <th></th>\n",
       "      <th>RowNumber</th>\n",
       "      <th>CustomerId</th>\n",
       "      <th>Surname</th>\n",
       "      <th>CreditScore</th>\n",
       "      <th>Geography</th>\n",
       "      <th>Gender</th>\n",
       "      <th>Age</th>\n",
       "      <th>Tenure</th>\n",
       "      <th>Balance</th>\n",
       "      <th>NumOfProducts</th>\n",
       "      <th>HasCrCard</th>\n",
       "      <th>IsActiveMember</th>\n",
       "      <th>EstimatedSalary</th>\n",
       "      <th>Exited</th>\n",
       "    </tr>\n",
       "  </thead>\n",
       "  <tbody>\n",
       "    <tr>\n",
       "      <th>0</th>\n",
       "      <td>1</td>\n",
       "      <td>15634602</td>\n",
       "      <td>Hargrave</td>\n",
       "      <td>619</td>\n",
       "      <td>France</td>\n",
       "      <td>Female</td>\n",
       "      <td>42</td>\n",
       "      <td>2.0</td>\n",
       "      <td>0.00</td>\n",
       "      <td>1</td>\n",
       "      <td>1</td>\n",
       "      <td>1</td>\n",
       "      <td>101348.88</td>\n",
       "      <td>1</td>\n",
       "    </tr>\n",
       "    <tr>\n",
       "      <th>1</th>\n",
       "      <td>2</td>\n",
       "      <td>15647311</td>\n",
       "      <td>Hill</td>\n",
       "      <td>608</td>\n",
       "      <td>Spain</td>\n",
       "      <td>Female</td>\n",
       "      <td>41</td>\n",
       "      <td>1.0</td>\n",
       "      <td>83807.86</td>\n",
       "      <td>1</td>\n",
       "      <td>0</td>\n",
       "      <td>1</td>\n",
       "      <td>112542.58</td>\n",
       "      <td>0</td>\n",
       "    </tr>\n",
       "    <tr>\n",
       "      <th>2</th>\n",
       "      <td>3</td>\n",
       "      <td>15619304</td>\n",
       "      <td>Onio</td>\n",
       "      <td>502</td>\n",
       "      <td>France</td>\n",
       "      <td>Female</td>\n",
       "      <td>42</td>\n",
       "      <td>8.0</td>\n",
       "      <td>159660.80</td>\n",
       "      <td>3</td>\n",
       "      <td>1</td>\n",
       "      <td>0</td>\n",
       "      <td>113931.57</td>\n",
       "      <td>1</td>\n",
       "    </tr>\n",
       "    <tr>\n",
       "      <th>3</th>\n",
       "      <td>4</td>\n",
       "      <td>15701354</td>\n",
       "      <td>Boni</td>\n",
       "      <td>699</td>\n",
       "      <td>France</td>\n",
       "      <td>Female</td>\n",
       "      <td>39</td>\n",
       "      <td>1.0</td>\n",
       "      <td>0.00</td>\n",
       "      <td>2</td>\n",
       "      <td>0</td>\n",
       "      <td>0</td>\n",
       "      <td>93826.63</td>\n",
       "      <td>0</td>\n",
       "    </tr>\n",
       "    <tr>\n",
       "      <th>4</th>\n",
       "      <td>5</td>\n",
       "      <td>15737888</td>\n",
       "      <td>Mitchell</td>\n",
       "      <td>850</td>\n",
       "      <td>Spain</td>\n",
       "      <td>Female</td>\n",
       "      <td>43</td>\n",
       "      <td>2.0</td>\n",
       "      <td>125510.82</td>\n",
       "      <td>1</td>\n",
       "      <td>1</td>\n",
       "      <td>1</td>\n",
       "      <td>79084.10</td>\n",
       "      <td>0</td>\n",
       "    </tr>\n",
       "    <tr>\n",
       "      <th>5</th>\n",
       "      <td>6</td>\n",
       "      <td>15574012</td>\n",
       "      <td>Chu</td>\n",
       "      <td>645</td>\n",
       "      <td>Spain</td>\n",
       "      <td>Male</td>\n",
       "      <td>44</td>\n",
       "      <td>8.0</td>\n",
       "      <td>113755.78</td>\n",
       "      <td>2</td>\n",
       "      <td>1</td>\n",
       "      <td>0</td>\n",
       "      <td>149756.71</td>\n",
       "      <td>1</td>\n",
       "    </tr>\n",
       "    <tr>\n",
       "      <th>6</th>\n",
       "      <td>7</td>\n",
       "      <td>15592531</td>\n",
       "      <td>Bartlett</td>\n",
       "      <td>822</td>\n",
       "      <td>France</td>\n",
       "      <td>Male</td>\n",
       "      <td>50</td>\n",
       "      <td>7.0</td>\n",
       "      <td>0.00</td>\n",
       "      <td>2</td>\n",
       "      <td>1</td>\n",
       "      <td>1</td>\n",
       "      <td>10062.80</td>\n",
       "      <td>0</td>\n",
       "    </tr>\n",
       "    <tr>\n",
       "      <th>7</th>\n",
       "      <td>8</td>\n",
       "      <td>15656148</td>\n",
       "      <td>Obinna</td>\n",
       "      <td>376</td>\n",
       "      <td>Germany</td>\n",
       "      <td>Female</td>\n",
       "      <td>29</td>\n",
       "      <td>4.0</td>\n",
       "      <td>115046.74</td>\n",
       "      <td>4</td>\n",
       "      <td>1</td>\n",
       "      <td>0</td>\n",
       "      <td>119346.88</td>\n",
       "      <td>1</td>\n",
       "    </tr>\n",
       "    <tr>\n",
       "      <th>8</th>\n",
       "      <td>9</td>\n",
       "      <td>15792365</td>\n",
       "      <td>He</td>\n",
       "      <td>501</td>\n",
       "      <td>France</td>\n",
       "      <td>Male</td>\n",
       "      <td>44</td>\n",
       "      <td>4.0</td>\n",
       "      <td>142051.07</td>\n",
       "      <td>2</td>\n",
       "      <td>0</td>\n",
       "      <td>1</td>\n",
       "      <td>74940.50</td>\n",
       "      <td>0</td>\n",
       "    </tr>\n",
       "    <tr>\n",
       "      <th>9</th>\n",
       "      <td>10</td>\n",
       "      <td>15592389</td>\n",
       "      <td>H?</td>\n",
       "      <td>684</td>\n",
       "      <td>France</td>\n",
       "      <td>Male</td>\n",
       "      <td>27</td>\n",
       "      <td>2.0</td>\n",
       "      <td>134603.88</td>\n",
       "      <td>1</td>\n",
       "      <td>1</td>\n",
       "      <td>1</td>\n",
       "      <td>71725.73</td>\n",
       "      <td>0</td>\n",
       "    </tr>\n",
       "    <tr>\n",
       "      <th>10</th>\n",
       "      <td>11</td>\n",
       "      <td>15767821</td>\n",
       "      <td>Bearce</td>\n",
       "      <td>528</td>\n",
       "      <td>France</td>\n",
       "      <td>Male</td>\n",
       "      <td>31</td>\n",
       "      <td>6.0</td>\n",
       "      <td>102016.72</td>\n",
       "      <td>2</td>\n",
       "      <td>0</td>\n",
       "      <td>0</td>\n",
       "      <td>80181.12</td>\n",
       "      <td>0</td>\n",
       "    </tr>\n",
       "    <tr>\n",
       "      <th>11</th>\n",
       "      <td>12</td>\n",
       "      <td>15737173</td>\n",
       "      <td>Andrews</td>\n",
       "      <td>497</td>\n",
       "      <td>Spain</td>\n",
       "      <td>Male</td>\n",
       "      <td>24</td>\n",
       "      <td>3.0</td>\n",
       "      <td>0.00</td>\n",
       "      <td>2</td>\n",
       "      <td>1</td>\n",
       "      <td>0</td>\n",
       "      <td>76390.01</td>\n",
       "      <td>0</td>\n",
       "    </tr>\n",
       "    <tr>\n",
       "      <th>12</th>\n",
       "      <td>13</td>\n",
       "      <td>15632264</td>\n",
       "      <td>Kay</td>\n",
       "      <td>476</td>\n",
       "      <td>France</td>\n",
       "      <td>Female</td>\n",
       "      <td>34</td>\n",
       "      <td>10.0</td>\n",
       "      <td>0.00</td>\n",
       "      <td>2</td>\n",
       "      <td>1</td>\n",
       "      <td>0</td>\n",
       "      <td>26260.98</td>\n",
       "      <td>0</td>\n",
       "    </tr>\n",
       "    <tr>\n",
       "      <th>13</th>\n",
       "      <td>14</td>\n",
       "      <td>15691483</td>\n",
       "      <td>Chin</td>\n",
       "      <td>549</td>\n",
       "      <td>France</td>\n",
       "      <td>Female</td>\n",
       "      <td>25</td>\n",
       "      <td>5.0</td>\n",
       "      <td>0.00</td>\n",
       "      <td>2</td>\n",
       "      <td>0</td>\n",
       "      <td>0</td>\n",
       "      <td>190857.79</td>\n",
       "      <td>0</td>\n",
       "    </tr>\n",
       "    <tr>\n",
       "      <th>14</th>\n",
       "      <td>15</td>\n",
       "      <td>15600882</td>\n",
       "      <td>Scott</td>\n",
       "      <td>635</td>\n",
       "      <td>Spain</td>\n",
       "      <td>Female</td>\n",
       "      <td>35</td>\n",
       "      <td>7.0</td>\n",
       "      <td>0.00</td>\n",
       "      <td>2</td>\n",
       "      <td>1</td>\n",
       "      <td>1</td>\n",
       "      <td>65951.65</td>\n",
       "      <td>0</td>\n",
       "    </tr>\n",
       "  </tbody>\n",
       "</table>\n",
       "</div>"
      ],
      "text/plain": [
       "    RowNumber  CustomerId   Surname  CreditScore Geography  Gender  Age  \\\n",
       "0           1    15634602  Hargrave          619    France  Female   42   \n",
       "1           2    15647311      Hill          608     Spain  Female   41   \n",
       "2           3    15619304      Onio          502    France  Female   42   \n",
       "3           4    15701354      Boni          699    France  Female   39   \n",
       "4           5    15737888  Mitchell          850     Spain  Female   43   \n",
       "5           6    15574012       Chu          645     Spain    Male   44   \n",
       "6           7    15592531  Bartlett          822    France    Male   50   \n",
       "7           8    15656148    Obinna          376   Germany  Female   29   \n",
       "8           9    15792365        He          501    France    Male   44   \n",
       "9          10    15592389        H?          684    France    Male   27   \n",
       "10         11    15767821    Bearce          528    France    Male   31   \n",
       "11         12    15737173   Andrews          497     Spain    Male   24   \n",
       "12         13    15632264       Kay          476    France  Female   34   \n",
       "13         14    15691483      Chin          549    France  Female   25   \n",
       "14         15    15600882     Scott          635     Spain  Female   35   \n",
       "\n",
       "    Tenure    Balance  NumOfProducts  HasCrCard  IsActiveMember  \\\n",
       "0      2.0       0.00              1          1               1   \n",
       "1      1.0   83807.86              1          0               1   \n",
       "2      8.0  159660.80              3          1               0   \n",
       "3      1.0       0.00              2          0               0   \n",
       "4      2.0  125510.82              1          1               1   \n",
       "5      8.0  113755.78              2          1               0   \n",
       "6      7.0       0.00              2          1               1   \n",
       "7      4.0  115046.74              4          1               0   \n",
       "8      4.0  142051.07              2          0               1   \n",
       "9      2.0  134603.88              1          1               1   \n",
       "10     6.0  102016.72              2          0               0   \n",
       "11     3.0       0.00              2          1               0   \n",
       "12    10.0       0.00              2          1               0   \n",
       "13     5.0       0.00              2          0               0   \n",
       "14     7.0       0.00              2          1               1   \n",
       "\n",
       "    EstimatedSalary  Exited  \n",
       "0         101348.88       1  \n",
       "1         112542.58       0  \n",
       "2         113931.57       1  \n",
       "3          93826.63       0  \n",
       "4          79084.10       0  \n",
       "5         149756.71       1  \n",
       "6          10062.80       0  \n",
       "7         119346.88       1  \n",
       "8          74940.50       0  \n",
       "9          71725.73       0  \n",
       "10         80181.12       0  \n",
       "11         76390.01       0  \n",
       "12         26260.98       0  \n",
       "13        190857.79       0  \n",
       "14         65951.65       0  "
      ]
     },
     "execution_count": 3,
     "metadata": {},
     "output_type": "execute_result"
    }
   ],
   "source": [
    "# print the general/summary information\n",
    "df.head(15)"
   ]
  },
  {
   "cell_type": "code",
   "execution_count": 4,
   "metadata": {},
   "outputs": [
    {
     "name": "stdout",
     "output_type": "stream",
     "text": [
      "<class 'pandas.core.frame.DataFrame'>\n",
      "RangeIndex: 10000 entries, 0 to 9999\n",
      "Data columns (total 14 columns):\n",
      " #   Column           Non-Null Count  Dtype  \n",
      "---  ------           --------------  -----  \n",
      " 0   RowNumber        10000 non-null  int64  \n",
      " 1   CustomerId       10000 non-null  int64  \n",
      " 2   Surname          10000 non-null  object \n",
      " 3   CreditScore      10000 non-null  int64  \n",
      " 4   Geography        10000 non-null  object \n",
      " 5   Gender           10000 non-null  object \n",
      " 6   Age              10000 non-null  int64  \n",
      " 7   Tenure           9091 non-null   float64\n",
      " 8   Balance          10000 non-null  float64\n",
      " 9   NumOfProducts    10000 non-null  int64  \n",
      " 10  HasCrCard        10000 non-null  int64  \n",
      " 11  IsActiveMember   10000 non-null  int64  \n",
      " 12  EstimatedSalary  10000 non-null  float64\n",
      " 13  Exited           10000 non-null  int64  \n",
      "dtypes: float64(3), int64(8), object(3)\n",
      "memory usage: 1.1+ MB\n"
     ]
    }
   ],
   "source": [
    "df.info()"
   ]
  },
  {
   "cell_type": "markdown",
   "metadata": {},
   "source": [
    "There are some columns that to an easier read"
   ]
  },
  {
   "cell_type": "code",
   "execution_count": 5,
   "metadata": {},
   "outputs": [],
   "source": [
    "# Renaming columns to add spaces for better readability\n",
    "\n",
    "df.rename(columns={\"RowNumber\": \"Row_Number\", \"CustomerId\": \"Customer_Id\", \"CreditScore\": \"Credit_Score\", \"NumOfProducts\": \"Num_Of_Products\", \"HasCrCard\": \"Has_Cr_Card\", \"IsActiveMember\":\"Is_Active_Member\", \"EstimatedSalary\": \"Estimated_Salary\"}, inplace=True)\n"
   ]
  },
  {
   "cell_type": "code",
   "execution_count": 6,
   "metadata": {},
   "outputs": [
    {
     "name": "stdout",
     "output_type": "stream",
     "text": [
      "<class 'pandas.core.frame.DataFrame'>\n",
      "RangeIndex: 10000 entries, 0 to 9999\n",
      "Data columns (total 14 columns):\n",
      " #   Column            Non-Null Count  Dtype  \n",
      "---  ------            --------------  -----  \n",
      " 0   Row_Number        10000 non-null  int64  \n",
      " 1   Customer_Id       10000 non-null  int64  \n",
      " 2   Surname           10000 non-null  object \n",
      " 3   Credit_Score      10000 non-null  int64  \n",
      " 4   Geography         10000 non-null  object \n",
      " 5   Gender            10000 non-null  object \n",
      " 6   Age               10000 non-null  int64  \n",
      " 7   Tenure            9091 non-null   float64\n",
      " 8   Balance           10000 non-null  float64\n",
      " 9   Num_Of_Products   10000 non-null  int64  \n",
      " 10  Has_Cr_Card       10000 non-null  int64  \n",
      " 11  Is_Active_Member  10000 non-null  int64  \n",
      " 12  Estimated_Salary  10000 non-null  float64\n",
      " 13  Exited            10000 non-null  int64  \n",
      "dtypes: float64(3), int64(8), object(3)\n",
      "memory usage: 1.1+ MB\n"
     ]
    }
   ],
   "source": [
    "df.info()"
   ]
  },
  {
   "cell_type": "markdown",
   "metadata": {},
   "source": [
    "In this project, I have decided to add spaces to column names to enhance readability and align with presentation standards. Although this change introduces some minor inconveniences in coding, the advantages in terms of clarity and communication with stakeholders outweigh these drawbacks. The decision to implement this adjustment is based on the specific use case and audience for this project.\n",
    "\n",
    "\n",
    "The DataFrame df consists of 10,000 rows and 13 columns. Among these columns, only the Tenure column exhibits missing values, with a total count of 909, which accounts for over 9% of the dataset. To address these missing values, they will be imputed using the median tenure value."
   ]
  },
  {
   "cell_type": "markdown",
   "metadata": {},
   "source": [
    "The following code block addresses missing values in the Tenure column by filling them with the median tenure value."
   ]
  },
  {
   "cell_type": "code",
   "execution_count": 7,
   "metadata": {},
   "outputs": [],
   "source": [
    "# Replace the missing values in the 'Tenure' column of the DataFrame with the median value of the \n",
    "# tenure column\n",
    "\n",
    "df.loc[df['Tenure'].isna(), 'Tenure'] = df['Tenure'].median()"
   ]
  },
  {
   "cell_type": "markdown",
   "metadata": {},
   "source": [
    "<div class=\"alert alert-success\" style=\"border-radius: 15px; box-shadow: 4px 4px 4px; border: 1px solid \">\n",
    "<h2>   Reviewer's comment </h2>\n",
    "    \n",
    "Agreed. `fillna` will also work fine.     \n",
    "</div>"
   ]
  },
  {
   "cell_type": "markdown",
   "metadata": {},
   "source": [
    "This line of code uses pandas to locate rows in the DataFrame df where the Tenure column contains missing values (NaN values). It then replaces these missing values with the median value of the Tenure column. So, essentially, it fills in the missing values in the Tenure column with the median value of that column. Here is a summary below. "
   ]
  },
  {
   "cell_type": "markdown",
   "metadata": {},
   "source": [
    "No additional steps are required as the columns have been made more readable and there are no longer any missing values. The next step is to prepare for training the model."
   ]
  },
  {
   "cell_type": "markdown",
   "metadata": {},
   "source": [
    "## Feature Preperation"
   ]
  },
  {
   "cell_type": "markdown",
   "metadata": {},
   "source": [
    "Prior to splitting and training the model, it's essential to prepare the features. For effective model training, the data should be numeric to prevent errors. Hence, any columns containing strings or non-numeric categories need to be transformed using encoding techniques.\n",
    "\n",
    "Since the Row_Number, Customer_Id, and Surname columns are irrelevant for predicting customer churn and are impractical to encode due to their size, a new DataFrame named data_curated will be generated by removing these columns from the dataset."
   ]
  },
  {
   "cell_type": "code",
   "execution_count": 9,
   "metadata": {},
   "outputs": [],
   "source": [
    "# Curate the dataset to only have the necessary info by dropping unecessary columns\n",
    "data_curated= df.drop(['Row_Number', 'Customer_Id', 'Surname'], axis=1)"
   ]
  },
  {
   "cell_type": "markdown",
   "metadata": {},
   "source": [
    "<div class=\"alert alert-success\" style=\"border-radius: 15px; box-shadow: 4px 4px 4px; border: 1px solid \">\n",
    "<h2> Reviewer's comment </h2>\n",
    "    \n",
    "Yes, we can drop them, since they do not influence the behavior. \n",
    "    \n",
    "</div>"
   ]
  },
  {
   "cell_type": "markdown",
   "metadata": {},
   "source": [
    "The line of code data_curated = df.drop(['Row_Number', 'Customer_Id', 'Surname'], axis=1) executes a pandas DataFrame method called drop() on the DataFrame df. This method removes specific columns from the DataFrame. In this case, the columns to be dropped are specified within a list: 'Row_Number', 'Customer_Id', and 'Surname'. The parameter axis=1 indicates that we are referring to columns; if it were set to 0, it would mean rows. After executing this line of code, a new DataFrame named data_curated is created, which contains all the columns from the original DataFrame df except for the ones specified in the list. Essentially, this operation curates the data by removing columns deemed irrelevant for predicting customer churn, such as unique identifiers like 'Row_Number' and 'Customer_Id', as well as categorical information like 'Surname'. The resulting DataFrame data_curated is now ready for further processing, such as splitting the data for training the predictive model.\n",
    "\n",
    "\n",
    "\n",
    "\n",
    "\n",
    "However, it's important to be cautious of the dummy trap, which arises when highly correlated columns are introduced during One-Hot Encoding, potentially confusing the model. To mitigate this issue, the first new column created from each original feature will be omitted. The following code block executes this action."
   ]
  },
  {
   "cell_type": "code",
   "execution_count": 10,
   "metadata": {},
   "outputs": [],
   "source": [
    "# Perform One-Hot Encoding on data_curated\n",
    "# Pass the drop_first=True parameter to avoid the dummy trap\n",
    "# Store the newly encoded dataset in 'data_ohe'\n",
    "\n",
    "data_ohe = pd.get_dummies(data_curated, drop_first=True)"
   ]
  },
  {
   "cell_type": "markdown",
   "metadata": {},
   "source": [
    "<div class=\"alert alert-success\" style=\"border-radius: 15px; box-shadow: 4px 4px 4px; border: 1px solid \">\n",
    "<h2> Reviewer's comment </h2>\n",
    "    \n",
    "Correct!     \n",
    "</div>"
   ]
  },
  {
   "cell_type": "markdown",
   "metadata": {},
   "source": [
    "The line of code data_ohe = pd.get_dummies(data_curated, drop_first=True) employs the get_dummies() function from the pandas library to perform one-hot encoding on the DataFrame data_curated. This function converts categorical variables into binary indicators, creating new columns for each unique category in the original data. Setting drop_first=True ensures that the first category of each encoded variable is omitted to avoid the dummy variable trap, where highly correlated columns can confuse the model. After execution, the DataFrame data_ohe holds the original columns alongside the newly created one-hot encoded columns, ready for further analysis or model training.\n",
    "\n",
    "\n",
    "\n",
    "\n",
    "\n",
    "Following the execution of One-Hot Encoding, it's beneficial to examine the resulting DataFrame."
   ]
  },
  {
   "cell_type": "code",
   "execution_count": 11,
   "metadata": {},
   "outputs": [
    {
     "data": {
      "text/html": [
       "<div>\n",
       "<style scoped>\n",
       "    .dataframe tbody tr th:only-of-type {\n",
       "        vertical-align: middle;\n",
       "    }\n",
       "\n",
       "    .dataframe tbody tr th {\n",
       "        vertical-align: top;\n",
       "    }\n",
       "\n",
       "    .dataframe thead th {\n",
       "        text-align: right;\n",
       "    }\n",
       "</style>\n",
       "<table border=\"1\" class=\"dataframe\">\n",
       "  <thead>\n",
       "    <tr style=\"text-align: right;\">\n",
       "      <th></th>\n",
       "      <th>Credit_Score</th>\n",
       "      <th>Age</th>\n",
       "      <th>Tenure</th>\n",
       "      <th>Balance</th>\n",
       "      <th>Num_Of_Products</th>\n",
       "      <th>Has_Cr_Card</th>\n",
       "      <th>Is_Active_Member</th>\n",
       "      <th>Estimated_Salary</th>\n",
       "      <th>Exited</th>\n",
       "      <th>Geography_Germany</th>\n",
       "      <th>Geography_Spain</th>\n",
       "      <th>Gender_Male</th>\n",
       "    </tr>\n",
       "  </thead>\n",
       "  <tbody>\n",
       "    <tr>\n",
       "      <th>0</th>\n",
       "      <td>619</td>\n",
       "      <td>42</td>\n",
       "      <td>2.0</td>\n",
       "      <td>0.00</td>\n",
       "      <td>1</td>\n",
       "      <td>1</td>\n",
       "      <td>1</td>\n",
       "      <td>101348.88</td>\n",
       "      <td>1</td>\n",
       "      <td>0</td>\n",
       "      <td>0</td>\n",
       "      <td>0</td>\n",
       "    </tr>\n",
       "    <tr>\n",
       "      <th>1</th>\n",
       "      <td>608</td>\n",
       "      <td>41</td>\n",
       "      <td>1.0</td>\n",
       "      <td>83807.86</td>\n",
       "      <td>1</td>\n",
       "      <td>0</td>\n",
       "      <td>1</td>\n",
       "      <td>112542.58</td>\n",
       "      <td>0</td>\n",
       "      <td>0</td>\n",
       "      <td>1</td>\n",
       "      <td>0</td>\n",
       "    </tr>\n",
       "    <tr>\n",
       "      <th>2</th>\n",
       "      <td>502</td>\n",
       "      <td>42</td>\n",
       "      <td>8.0</td>\n",
       "      <td>159660.80</td>\n",
       "      <td>3</td>\n",
       "      <td>1</td>\n",
       "      <td>0</td>\n",
       "      <td>113931.57</td>\n",
       "      <td>1</td>\n",
       "      <td>0</td>\n",
       "      <td>0</td>\n",
       "      <td>0</td>\n",
       "    </tr>\n",
       "    <tr>\n",
       "      <th>3</th>\n",
       "      <td>699</td>\n",
       "      <td>39</td>\n",
       "      <td>1.0</td>\n",
       "      <td>0.00</td>\n",
       "      <td>2</td>\n",
       "      <td>0</td>\n",
       "      <td>0</td>\n",
       "      <td>93826.63</td>\n",
       "      <td>0</td>\n",
       "      <td>0</td>\n",
       "      <td>0</td>\n",
       "      <td>0</td>\n",
       "    </tr>\n",
       "    <tr>\n",
       "      <th>4</th>\n",
       "      <td>850</td>\n",
       "      <td>43</td>\n",
       "      <td>2.0</td>\n",
       "      <td>125510.82</td>\n",
       "      <td>1</td>\n",
       "      <td>1</td>\n",
       "      <td>1</td>\n",
       "      <td>79084.10</td>\n",
       "      <td>0</td>\n",
       "      <td>0</td>\n",
       "      <td>1</td>\n",
       "      <td>0</td>\n",
       "    </tr>\n",
       "    <tr>\n",
       "      <th>...</th>\n",
       "      <td>...</td>\n",
       "      <td>...</td>\n",
       "      <td>...</td>\n",
       "      <td>...</td>\n",
       "      <td>...</td>\n",
       "      <td>...</td>\n",
       "      <td>...</td>\n",
       "      <td>...</td>\n",
       "      <td>...</td>\n",
       "      <td>...</td>\n",
       "      <td>...</td>\n",
       "      <td>...</td>\n",
       "    </tr>\n",
       "    <tr>\n",
       "      <th>9995</th>\n",
       "      <td>771</td>\n",
       "      <td>39</td>\n",
       "      <td>5.0</td>\n",
       "      <td>0.00</td>\n",
       "      <td>2</td>\n",
       "      <td>1</td>\n",
       "      <td>0</td>\n",
       "      <td>96270.64</td>\n",
       "      <td>0</td>\n",
       "      <td>0</td>\n",
       "      <td>0</td>\n",
       "      <td>1</td>\n",
       "    </tr>\n",
       "    <tr>\n",
       "      <th>9996</th>\n",
       "      <td>516</td>\n",
       "      <td>35</td>\n",
       "      <td>10.0</td>\n",
       "      <td>57369.61</td>\n",
       "      <td>1</td>\n",
       "      <td>1</td>\n",
       "      <td>1</td>\n",
       "      <td>101699.77</td>\n",
       "      <td>0</td>\n",
       "      <td>0</td>\n",
       "      <td>0</td>\n",
       "      <td>1</td>\n",
       "    </tr>\n",
       "    <tr>\n",
       "      <th>9997</th>\n",
       "      <td>709</td>\n",
       "      <td>36</td>\n",
       "      <td>7.0</td>\n",
       "      <td>0.00</td>\n",
       "      <td>1</td>\n",
       "      <td>0</td>\n",
       "      <td>1</td>\n",
       "      <td>42085.58</td>\n",
       "      <td>1</td>\n",
       "      <td>0</td>\n",
       "      <td>0</td>\n",
       "      <td>0</td>\n",
       "    </tr>\n",
       "    <tr>\n",
       "      <th>9998</th>\n",
       "      <td>772</td>\n",
       "      <td>42</td>\n",
       "      <td>3.0</td>\n",
       "      <td>75075.31</td>\n",
       "      <td>2</td>\n",
       "      <td>1</td>\n",
       "      <td>0</td>\n",
       "      <td>92888.52</td>\n",
       "      <td>1</td>\n",
       "      <td>1</td>\n",
       "      <td>0</td>\n",
       "      <td>1</td>\n",
       "    </tr>\n",
       "    <tr>\n",
       "      <th>9999</th>\n",
       "      <td>792</td>\n",
       "      <td>28</td>\n",
       "      <td>5.0</td>\n",
       "      <td>130142.79</td>\n",
       "      <td>1</td>\n",
       "      <td>1</td>\n",
       "      <td>0</td>\n",
       "      <td>38190.78</td>\n",
       "      <td>0</td>\n",
       "      <td>0</td>\n",
       "      <td>0</td>\n",
       "      <td>0</td>\n",
       "    </tr>\n",
       "  </tbody>\n",
       "</table>\n",
       "<p>10000 rows × 12 columns</p>\n",
       "</div>"
      ],
      "text/plain": [
       "      Credit_Score  Age  Tenure    Balance  Num_Of_Products  Has_Cr_Card  \\\n",
       "0              619   42     2.0       0.00                1            1   \n",
       "1              608   41     1.0   83807.86                1            0   \n",
       "2              502   42     8.0  159660.80                3            1   \n",
       "3              699   39     1.0       0.00                2            0   \n",
       "4              850   43     2.0  125510.82                1            1   \n",
       "...            ...  ...     ...        ...              ...          ...   \n",
       "9995           771   39     5.0       0.00                2            1   \n",
       "9996           516   35    10.0   57369.61                1            1   \n",
       "9997           709   36     7.0       0.00                1            0   \n",
       "9998           772   42     3.0   75075.31                2            1   \n",
       "9999           792   28     5.0  130142.79                1            1   \n",
       "\n",
       "      Is_Active_Member  Estimated_Salary  Exited  Geography_Germany  \\\n",
       "0                    1         101348.88       1                  0   \n",
       "1                    1         112542.58       0                  0   \n",
       "2                    0         113931.57       1                  0   \n",
       "3                    0          93826.63       0                  0   \n",
       "4                    1          79084.10       0                  0   \n",
       "...                ...               ...     ...                ...   \n",
       "9995                 0          96270.64       0                  0   \n",
       "9996                 1         101699.77       0                  0   \n",
       "9997                 1          42085.58       1                  0   \n",
       "9998                 0          92888.52       1                  1   \n",
       "9999                 0          38190.78       0                  0   \n",
       "\n",
       "      Geography_Spain  Gender_Male  \n",
       "0                   0            0  \n",
       "1                   1            0  \n",
       "2                   0            0  \n",
       "3                   0            0  \n",
       "4                   1            0  \n",
       "...               ...          ...  \n",
       "9995                0            1  \n",
       "9996                0            1  \n",
       "9997                0            0  \n",
       "9998                0            1  \n",
       "9999                0            0  \n",
       "\n",
       "[10000 rows x 12 columns]"
      ]
     },
     "execution_count": 11,
     "metadata": {},
     "output_type": "execute_result"
    }
   ],
   "source": [
    "data_ohe"
   ]
  },
  {
   "cell_type": "markdown",
   "metadata": {},
   "source": [
    "The outcome of applying one-hot encoding to the 'Geography' and 'Gender' columns in the DataFrame. One-hot encoding transforms categorical variables into binary indicators, creating new columns for each unique category. In this case, after one-hot encoding, there are new columns representing the different geographical locations and genders present in the original data. To prevent the dummy variable trap, which arises from having highly correlated columns, one dummy column from each feature is dropped. This means that for each original categorical variable ('Geography' and 'Gender'), one of the newly created columns is omitted. Consequently, the DataFrame now consists of numeric data, which is suitable for model training, as many machine learning algorithms require numeric inputs. With this transformation complete, the data is prepared and ready for use in training predictive models."
   ]
  },
  {
   "cell_type": "code",
   "execution_count": 56,
   "metadata": {},
   "outputs": [
    {
     "name": "stdout",
     "output_type": "stream",
     "text": [
      "                        Balance                Estimated_Salary               \n",
      "Exited                        0              1                0              1\n",
      "Geography Gender                                                              \n",
      "France    Female   58424.310061   67755.162630     98526.820627  103626.025065\n",
      "          Male     61774.503758   75710.827800     99734.445789  103193.839686\n",
      "Germany   Female  118828.514362  119673.872321    103987.042242   99884.458728\n",
      "          Male    119896.529105  121202.242432    101181.577505   96591.601257\n",
      "Spain     Female   56594.820688   71997.673680     98900.649091  107544.095758\n",
      "          Male     61871.626285   73167.867802     98390.161260   98661.099011\n"
     ]
    },
    {
     "data": {
      "image/png": "[encoded data removed]",
      "text/plain": [
       "<Figure size 1400x800 with 1 Axes>"
      ]
     },
     "metadata": {},
     "output_type": "display_data"
    }
   ],
   "source": [
    "pivot_table = pd.pivot_table(\n",
    "    df, \n",
    "    values=['Balance', 'Estimated_Salary'], \n",
    "    index=['Geography', 'Gender'], \n",
    "    columns=['Exited'], \n",
    "    aggfunc={'Balance': 'mean', 'Estimated_Salary': 'mean'}\n",
    ")\n",
    "\n",
    "# Display the pivot table\n",
    "print(pivot_table)\n",
    "\n",
    "pivot_table.plot(kind='bar', figsize=(14, 8))\n",
    "\n",
    "# Adding a title and labels\n",
    "plt.title('Average Balance and Estimated Salary by Geography, Gender, and Exited Status')\n",
    "plt.xlabel('Geography and Gender')\n",
    "plt.ylabel('Average Value')\n",
    "plt.xticks(rotation=45, ha='right')  # Rotate x-axis labels for better readability\n",
    "plt.legend(title='Exited Status and Metric')\n",
    "\n",
    "# Show the plot\n",
    "plt.tight_layout()\n",
    "plt.show()"
   ]
  },
  {
   "cell_type": "markdown",
   "metadata": {},
   "source": [
    "The provided visualization comprises a pivot table and a corresponding bar plot that displays the average Balance and Estimated Salary categorized by Geography, Gender, and Exited status. The pivot table showcases the mean values for these metrics, segmented by the specified categories. For instance, it shows the average balance and estimated salary for both exited (1) and non-exited (0) customers across different genders and geographies such as France, Germany, and Spain.\n",
    "\n",
    "The bar plot visually represents this data, with each geographic and gender category grouped together on the x-axis. The y-axis indicates the average value. Different colors distinguish between the metrics and the exited status: blue and green for balance (non-exited and exited, respectively), and orange and red for estimated salary (non-exited and exited, respectively). This visual comparison highlights the variations in financial metrics between different demographic groups and their exit status, providing clear insights into how these variables interact. For instance, it becomes evident which groups have higher average balances or estimated salaries and how exit status affects these averages across different geographies and genders."
   ]
  },
  {
   "cell_type": "code",
   "execution_count": 52,
   "metadata": {},
   "outputs": [
    {
     "data": {
      "text/plain": [
       "<Figure size 1200x600 with 0 Axes>"
      ]
     },
     "metadata": {},
     "output_type": "display_data"
    },
    {
     "data": {
      "image/png": "[encoded data removed]",
      "text/plain": [
       "<Figure size 640x480 with 1 Axes>"
      ]
     },
     "metadata": {},
     "output_type": "display_data"
    }
   ],
   "source": [
    "active_members_by_gender = df.groupby(['Gender', 'Is_Active_Member']).size().unstack()\n",
    "\n",
    "# Plot the bar chart\n",
    "plt.figure(figsize=(12, 6))\n",
    "active_members_by_gender.plot(kind='bar', stacked=True, color=['skyblue', 'lightcoral'])\n",
    "plt.title('Active Members by Gender')\n",
    "plt.xlabel('Gender')\n",
    "plt.ylabel('Number of Clients')\n",
    "plt.legend(title='Is Active Member', labels=['Inactive', 'Active'])\n",
    "plt.xticks(rotation=0)\n",
    "plt.grid(axis='y')\n",
    "plt.show()"
   ]
  },
  {
   "cell_type": "markdown",
   "metadata": {},
   "source": [
    "The provided bar chart displays the count of active and inactive members categorized by gender. The x-axis represents gender, with two categories: Female and Male. The y-axis indicates the number of clients. Each bar is stacked to show the distribution of active (red) and inactive (blue) members within each gender category.\n",
    "\n",
    "From the chart, we can observe that both genders have an almost equal total number of clients. However, within each gender, there is a similar proportion of active and inactive members. The visualization helps to quickly understand the distribution and compare the activity status of members across different genders, highlighting that the engagement level (active vs. inactive) is consistent across both male and female clients. This kind of analysis is useful for understanding client demographics and tailoring engagement strategies accordingly."
   ]
  },
  {
   "cell_type": "markdown",
   "metadata": {},
   "source": [
    "<div class=\"alert alert-danger\" style=\"border-radius: 15px; box-shadow: 4px 4px 4px; border: 1px solid \">\n",
    "<h2> Reviewer's comment</h2>\n",
    "    \n",
    "Before we move on to the machine learning models, let's display some charts to evaluate the distributions.  Don't forget to add titles and axes labels so that the reader could easily understand what's going on here.    \n",
    "</div>"
   ]
  },
  {
   "cell_type": "markdown",
   "metadata": {},
   "source": [
    "## Modeling "
   ]
  },
  {
   "cell_type": "markdown",
   "metadata": {},
   "source": [
    "### Preparing the training, validation, and test datasets"
   ]
  },
  {
   "cell_type": "markdown",
   "metadata": {},
   "source": [
    "We aim to train, validate, and conduct final testing on the model, necessitating three distinct datasets. Since Beta Bank has provided only one dataset, we'll divide it into a training dataset, a validation dataset, and a testing dataset. A common ratio for this split is 3:1:1, where the training dataset comprises 60% of the data, and both the validation and testing datasets contain 20% each. To perform this split, we'll utilize the train_test_split function available in the sklearn.model_selection library. The following code block will partition the overall dataset into three separate datasets."
   ]
  },
  {
   "cell_type": "code",
   "execution_count": 12,
   "metadata": {},
   "outputs": [],
   "source": [
    "# Create the training, validation, and testing datasets\n",
    "# The datasets will be split up 60%, 20%, 20% for a 3:1:1 ratio\n",
    "\n",
    "# Create the target dataset by slicing the 'Exited' column\n",
    "target = data_ohe['Exited']\n",
    "\n",
    "# Create the feature dataset by dropping the 'Exited' column\n",
    "features = data_ohe.drop('Exited', axis=1)\n",
    "\n",
    "# Split the features and target datasets into training datasets and other datasets\n",
    "# The test_size will be 0.4 so that the training dataset contains 60% of the data\n",
    "features_train, features_other, target_train, target_other = train_test_split(features, target, test_size=0.4, random_state=12345)\n",
    "\n",
    "# Split the 'other' datasets into validation and testing datasets\n",
    "# The test_size will be 0.5 so that both datasets contain 50% of 40% of the data, or 20% of the overall data each.\n",
    "\n",
    "features_valid, features_test, target_valid, target_test = train_test_split(features_other, target_other, test_size=0.5, random_state=12345)"
   ]
  },
  {
   "cell_type": "markdown",
   "metadata": {},
   "source": [
    "The code snippet outlines a process for creating training, validation, and testing datasets from a one-hot encoded dataset data_ohe. The goal is to split the data into 60% for training, 20% for validation, and 20% for testing, ensuring a 3:1:1 ratio. First, the target variable Exited is isolated, and the remaining columns are assigned to the features dataset. Using train_test_split from sklearn, the features and target datasets are initially split into a training set and a combined validation/testing set with a 60/40 split. The training set comprises 60% of the total data. The combined validation/testing set is further split into validation and testing sets, each receiving 50% of the remaining 40% of the data. This second split results in validation and testing sets that each constitute 20% of the original dataset. The random_state parameter is set to ensure reproducibility of the splits."
   ]
  },
  {
   "cell_type": "markdown",
   "metadata": {},
   "source": [
    "<div class=\"alert alert-success\" style=\"border-radius: 15px; box-shadow: 4px 4px 4px; border: 1px solid \">\n",
    "<h2> Reviewer's comment </h2>\n",
    "    \n",
    "Correct!\n",
    "    \n",
    "</div>\n",
    "<div class=\"alert alert-warning\" style=\"border-radius: 15px; box-shadow: 4px 4px 4px; border: 1px solid \">\n",
    "<h2> Reviewer's comment </h2>\n",
    "   \n",
    "\n",
    "It may be a good idea to print their sizes. \n",
    "    \n",
    "</div>"
   ]
  },
  {
   "cell_type": "markdown",
   "metadata": {},
   "source": [
    "### Examine the Balance of Classes"
   ]
  },
  {
   "cell_type": "markdown",
   "metadata": {},
   "source": [
    "Now that the data has been split, let's examine the distribution of positive and negative classes in each dataset. We will calculate and display the proportion of positive and negative instances in the training, validation, and test datasets to understand the class distribution across these sets."
   ]
  },
  {
   "cell_type": "code",
   "execution_count": 13,
   "metadata": {},
   "outputs": [
    {
     "name": "stdout",
     "output_type": "stream",
     "text": [
      "TRAINING\n",
      "Negative class balance: 80.067%\n",
      "Positive class balance: 19.933%\n",
      "\n",
      "VALIDATION\n",
      "Negative class balance: 79.1%\n",
      "Positive class balance: 20.9%\n",
      "\n",
      "TEST\n",
      "Negative class balance: 78.85%\n",
      "Positive class balance: 21.15%\n"
     ]
    }
   ],
   "source": [
    "# Balance of classes for training dataset\n",
    "print('TRAINING')\n",
    "print(f'Negative class balance: {round(target_train[target_train == 0].count() * 100 / len(target_train), 3)}%') \n",
    "print(f'Positive class balance: {round(target_train[target_train == 1].count() * 100 / len(target_train), 3)}%\\n')\n",
    "\n",
    "# Balance of classes for validation dataset\n",
    "print('VALIDATION')\n",
    "print(f'Negative class balance: {round(target_valid[target_valid == 0].count() * 100 / len(target_valid), 3)}%') \n",
    "print(f'Positive class balance: {round(target_valid[target_valid == 1].count() * 100 / len(target_valid), 3)}%\\n') \n",
    "\n",
    "\n",
    "\n",
    "# Balance of classes for test dataset\n",
    "print('TEST')\n",
    "print(f'Negative class balance: {round(target_test[target_test == 0].count() * 100 / len(target_test), 3)}%') \n",
    "print(f'Positive class balance: {round(target_test[target_test == 1].count() * 100 / len(target_test), 3)}%') "
   ]
  },
  {
   "cell_type": "markdown",
   "metadata": {},
   "source": [
    "The code calculates and displays the balance of negative and positive classes in the training, validation, and test datasets, ensuring consistent class distributions across all splits. For each dataset, it counts the instances of the negative class (Exited = 0) and the positive class (Exited = 1), then computes their respective percentages. The results show that in the training dataset, the negative class constitutes 80.067% and the positive class 19.933%. In the validation dataset, the negative class is 79.1% and the positive class 20.9%, while in the test dataset, the negative class makes up 78.85% and the positive class 21.15%. This consistency in class distribution is crucial for reliable model training and evaluation, ensuring that each dataset provides a representative sample of the overall class balance."
   ]
  },
  {
   "cell_type": "code",
   "execution_count": 14,
   "metadata": {},
   "outputs": [],
   "source": [
    "# Standardize the data\n",
    "numeric = ['Credit_Score', 'Age', 'Tenure', 'Balance', 'Num_Of_Products', 'Estimated_Salary']\n",
    "scaler = StandardScaler()\n",
    "scaler.fit(features_train[numeric])\n",
    "features_train.loc[:, numeric] = scaler.transform(features_train.loc[:, numeric])\n",
    "features_valid.loc[:, numeric] = scaler.transform(features_valid.loc[:, numeric])\n",
    "features_test.loc[:, numeric] = scaler.transform(features_test.loc[:, numeric])"
   ]
  },
  {
   "cell_type": "markdown",
   "metadata": {},
   "source": [
    "The code  standardizes numerical features in the training, validation, and test datasets using StandardScaler from sklearn.preprocessing. The process begins by defining a list of numerical features: Credit_Score, Age, Tenure, Balance, Num_Of_Products, and Estimated_Salary. A StandardScaler instance is created and fitted on the training dataset's numerical columns to compute the mean and standard deviation. The training dataset is then transformed by scaling these features to have a mean of 0 and a standard deviation of 1. The same transformation, using the training dataset’s statistics, is applied to the numerical columns in the validation and test datasets to ensure consistent scaling across all datasets. This standardization is crucial for many machine learning algorithms that perform better when input features have similar scales."
   ]
  },
  {
   "cell_type": "markdown",
   "metadata": {},
   "source": [
    "<div class=\"alert alert-success\" style=\"border-radius: 15px; box-shadow: 4px 4px 4px; border: 1px solid \">\n",
    "<h2> Reviewer's comment </h2>\n",
    "   \n",
    "\n",
    "Correct.     \n",
    "</div>"
   ]
  },
  {
   "cell_type": "markdown",
   "metadata": {},
   "source": [
    "### Training a model before adjusting class imbalance"
   ]
  },
  {
   "cell_type": "markdown",
   "metadata": {},
   "source": [
    "Let's first train a model without addressing the class imbalance. Afterward, we will compare the results with those of a model trained after adjusting for the class imbalance."
   ]
  },
  {
   "cell_type": "code",
   "execution_count": 15,
   "metadata": {},
   "outputs": [
    {
     "name": "stdout",
     "output_type": "stream",
     "text": [
      "F1: 0.33108\n",
      "AUC-ROC Score: 0.75875\n"
     ]
    }
   ],
   "source": [
    "# Create an instance of a LogisticRegression model\n",
    "model = LogisticRegression(solver='liblinear', random_state=12345)\n",
    "\n",
    "# Fit the model using the training data\n",
    "model.fit(features_train, target_train)\n",
    "\n",
    "# Predict the target values of the validation features\n",
    "predicted_valid = model.predict(features_valid)\n",
    "\n",
    "# Calculate and print the F1 score\n",
    "print('F1:', round(f1_score(target_valid, predicted_valid), 5))\n",
    "\n",
    "probabilties_valid = model.predict_proba(features_valid)\n",
    "probabilties_one_valid = probabilties_valid[:, 1]\n",
    "auc_roc = roc_auc_score(target_valid, probabilties_one_valid)\n",
    "\n",
    "print(f'AUC-ROC Score: {round(auc_roc, 5)}')"
   ]
  },
  {
   "cell_type": "markdown",
   "metadata": {},
   "source": [
    "The code demonstrates the process of training a Logistic Regression model and evaluating its performance using the F1 score and the AUC-ROC score. Initially, an instance of the LogisticRegression model is created with the liblinear solver and a fixed random_state for reproducibility. The model is then fitted using the training data. After training, the model predicts the target values for the validation dataset, and these predictions are used to calculate the F1 score, a measure of a model's accuracy that considers both precision and recall. The code also computes the predicted probabilities for the validation dataset and extracts the probabilities for the positive class to calculate the AUC-ROC score, which assesses the model's ability to distinguish between the positive and negative classes. The results indicate an F1 score of 0.33108 and an AUC-ROC score of 0.75875, providing insights into the model's performance before addressing class imbalance."
   ]
  },
  {
   "cell_type": "markdown",
   "metadata": {},
   "source": [
    "### Training a model after adjusting the class imbalance"
   ]
  },
  {
   "cell_type": "markdown",
   "metadata": {},
   "source": [
    "To improve the F1 score of the logistic regression model, we'll address the class imbalance in the training dataset. By adjusting the class weights, the model will become more sensitive to the less frequent classes. This can be achieved by setting the class_weight parameter to balanced when initializing the model."
   ]
  },
  {
   "cell_type": "code",
   "execution_count": 16,
   "metadata": {},
   "outputs": [
    {
     "name": "stdout",
     "output_type": "stream",
     "text": [
      "F1: 0.48885\n",
      "AUC-ROC Score: 0.76373\n"
     ]
    }
   ],
   "source": [
    "# Create an instance of a LogisticRegression model\n",
    "# pass the parameter class_weight='balanced'\n",
    "\n",
    "model = LogisticRegression(class_weight='balanced', solver='liblinear', random_state=12345)\n",
    "\n",
    "# Fit the model using the training data\n",
    "model.fit(features_train,target_train)\n",
    "\n",
    "# Predict the target values of the validation features\n",
    "predicted_valid = model.predict(features_valid)\n",
    "\n",
    "# Calculate and print the F1 score\n",
    "print('F1:', round(f1_score(target_valid, predicted_valid),5))\n",
    "\n",
    "probabilities_valid = model.predict_proba(features_valid)\n",
    "probabilities_one_valid = probabilities_valid[:, 1]\n",
    "auc_roc = roc_auc_score(target_valid, probabilities_one_valid)\n",
    "\n",
    "print(f'AUC-ROC Score: {round(auc_roc, 5)}')"
   ]
  },
  {
   "cell_type": "markdown",
   "metadata": {},
   "source": [
    "The code illustrates the process of training a Logistic Regression model with class imbalance addressed through setting the class_weight parameter to 'balanced'. Firstly, an instance of the Logistic Regression model is created with the class_weight parameter set to 'balanced', along with other parameters such as the solver and random state. This adjustment enables the model to assign higher weights to the minority class instances, thereby addressing the class imbalance issue. Subsequently, the model is trained using the training dataset. After training, the model predicts the target values for the validation dataset, which are then used to calculate the F1 score, a measure of the model's accuracy that considers both precision and recall. Additionally, the predicted probabilities for the positive class are computed from the validation dataset to determine the AUC-ROC score, which assesses the model's ability to distinguish between the positive and negative classes. The results indicate an improved F1 score of 0.48885 and a slight increase in the AUC-ROC score to 0.76373, demonstrating the effectiveness of addressing class imbalance in enhancing model performance."
   ]
  },
  {
   "cell_type": "markdown",
   "metadata": {},
   "source": [
    "<div class=\"alert alert-success\" style=\"border-radius: 15px; box-shadow: 4px 4px 4px; border: 1px solid \">\n",
    "<h2> Reviewer's comment </h2>\n",
    "   \n",
    "Everything is correct here as well. \n",
    "    \n",
    "</div>"
   ]
  },
  {
   "cell_type": "markdown",
   "metadata": {},
   "source": [
    "### Adjusting class weight with upsampling and downsampling\n"
   ]
  },
  {
   "cell_type": "markdown",
   "metadata": {},
   "source": [
    "In addition to employing class_weight='balanced' to tackle the class imbalance, we can explore upsampling and downsampling techniques. Upsampling boosts the presence of positive instances, while downsampling diminishes the count of negative instances. Let's delve into upsampling and develop a corresponding function."
   ]
  },
  {
   "cell_type": "markdown",
   "metadata": {},
   "source": [
    "### Upsample"
   ]
  },
  {
   "cell_type": "code",
   "execution_count": 17,
   "metadata": {},
   "outputs": [],
   "source": [
    "# Adjust class imablance with upsampling\n",
    "\n",
    "# Create a function for upsampling the training data\n",
    "\n",
    "# Initialize the funciton\n",
    "\n",
    "def upsample(features, target):\n",
    "    \n",
    "    # Create datasets based on class\n",
    "    features_zeros = features[target == 0]\n",
    "    features_ones = features[target == 1]\n",
    "    target_zeros = target[target == 0]\n",
    "    target_ones = target[target == 1]\n",
    "    \n",
    "    \n",
    "    # Calculate the desired ratio of positive and negative samples\n",
    "    \n",
    "    repeat = int(len(features_zeros) / len(features_ones))\n",
    "    \n",
    "    # Perform upsampling\n",
    "    \n",
    "    features_upsampled = pd.concat([features_zeros] + [features_ones] * repeat)\n",
    "    target_upsampled = pd.concat([target_zeros] + [target_ones] * repeat)\n",
    "    \n",
    "    \n",
    "    # Shuffle the observations\n",
    "    features_upsampled, target_upsampled = shuffle(features_upsampled, target_upsampled, random_state=12345)\n",
    "    \n",
    "    # Return the upsampled data\n",
    "    return features_upsampled, target_upsampled"
   ]
  },
  {
   "cell_type": "markdown",
   "metadata": {},
   "source": [
    " Upsample, aims to counter class imbalance by generating additional samples for the minority class within the training data. Initially, it divides the dataset into two subsets based on their class labels: instances labeled as 0 (representing the negative class) and instances labeled as 1 (representing the positive class). Subsequently, it calculates the ratio between the number of negative instances and positive instances, determining how many times the positive instances need to be replicated to balance the classes. The function then duplicates the positive instances accordingly and combines them with the original negative instances. To ensure randomness and prevent any bias during training, the upsampled data is shuffled before being returned. Ultimately, this function serves as a crucial step in preprocessing data for machine learning models, effectively addressing the challenge of class imbalance by providing a balanced representation of both classes."
   ]
  },
  {
   "cell_type": "code",
   "execution_count": 18,
   "metadata": {},
   "outputs": [],
   "source": [
    "features_upsampled, target_upsampled = upsample(features_train, target_train)\n"
   ]
  },
  {
   "cell_type": "markdown",
   "metadata": {},
   "source": [
    "Features_upsampled, target_upsampled = upsample(features_train, target_train) invokes the \"upsample\" function to address class imbalance within the training data. This function takes two arguments: \"features_train,\" representing the features of the training dataset, and \"target_train,\" denoting the corresponding target labels. Upon execution, the function partitions the data based on class labels, calculates the necessary upsampling ratio, and replicates instances from the minority class to balance the dataset. After shuffling to ensure randomness, it returns the upsampled feature and target datasets. By assigning the returned upsampled features and targets to \"features_upsampled\" and \"target_upsampled,\" respectively, this line effectively prepares the augmented training data, ensuring a more balanced representation of both classes for subsequent machine learning model training."
   ]
  },
  {
   "cell_type": "code",
   "execution_count": 19,
   "metadata": {},
   "outputs": [
    {
     "name": "stdout",
     "output_type": "stream",
     "text": [
      "F1 0.48885\n",
      "AUC-ROC Score: 0.76373\n"
     ]
    }
   ],
   "source": [
    "# Create an instance of a LogisticRegression model\n",
    "# pass the parameter class_weight='balanced\n",
    "\n",
    "\n",
    "\n",
    "model = LogisticRegression(solver='liblinear', random_state=12345)\n",
    "\n",
    "# Fit the model using the training data\n",
    "model.fit(features_upsampled, target_upsampled)\n",
    "\n",
    "# Predict the target values of the validation features\n",
    "predicted_valid = model.predict(features_valid)\n",
    "\n",
    "# Calculate and print the F1 score\n",
    "print('F1', round(f1_score(target_valid, predicted_valid),5))\n",
    "\n",
    "probabilites_valid = model.predict_proba(features_valid)\n",
    "probabilites__one_valid = probabilites_valid[:,1]\n",
    "auc_roc = roc_auc_score(target_valid, probabilities_one_valid)\n",
    "\n",
    "print(f'AUC-ROC Score: {round(auc_roc, 5)}')"
   ]
  },
  {
   "cell_type": "markdown",
   "metadata": {},
   "source": [
    "The model is configured with the 'liblinear' solver and a specified random state for reproducibility. Following this, the model is trained using the upsampled training data. Once trained, it predicts the target values for the validation features. The F1 score, which balances precision and recall, is then computed using the predicted values and true labels of the validation set and printed for evaluation. Additionally, the model's predicted probabilities for the positive class are derived using the \"predict_proba\" method, and the Area Under the Receiver Operating Characteristic (ROC) Curve (AUC-ROC) score, indicating the model's discrimination ability, is calculated based on these probabilities and the true targets of the validation set. Both the F1 score and AUC-ROC score are displayed, with values of 0.48885 and 0.76373, respectively, providing insights into the model's performance."
   ]
  },
  {
   "cell_type": "markdown",
   "metadata": {},
   "source": [
    "<div class=\"alert alert-success\" style=\"border-radius: 15px; box-shadow: 4px 4px 4px; border: 1px solid \">\n",
    "<h2> Reviewer's comment </h2>\n",
    "   \n",
    "Correct.     \n",
    "</div>"
   ]
  },
  {
   "cell_type": "markdown",
   "metadata": {},
   "source": [
    "### Downsampling"
   ]
  },
  {
   "cell_type": "code",
   "execution_count": 20,
   "metadata": {},
   "outputs": [],
   "source": [
    "# Create a function for downsampling the training data\n",
    "\n",
    "def downsample(features, target, fraction):\n",
    "    features_zeros = features[target == 0]\n",
    "    features_ones = features[target == 1]\n",
    "    target_zeros = target[target == 0]\n",
    "    target_ones = target[target == 1]\n",
    "    \n",
    "    \n",
    "    \n",
    "    # Calculate the frequency of positive and negative classes\n",
    "    num_zeros = len(features_zeros)\n",
    "    num_ones = len(features_ones)\n",
    "    \n",
    "    # Determine the appropriate fraction for downsampling\n",
    "    downsample_fraction = min(fraction, num_ones / num_zeros)\n",
    "    \n",
    "    features_downsampled = pd.concat([features_zeros.sample(frac=downsample_fraction, random_state=12345)] + [features_ones])\n",
    "    target_downsampled = pd.concat([target_zeros.sample(frac=downsample_fraction, random_state=12345)] + [target_ones])\n",
    "\n",
    "    features_downsampled, target_downsampled = shuffle(features_downsampled, target_downsampled, random_state=12345)\n",
    "\n",
    "    return features_downsampled, target_downsampled\n",
    " "
   ]
  },
  {
   "cell_type": "markdown",
   "metadata": {},
   "source": [
    "The \"downsample\" function provided here aims to alleviate class imbalance within the training data. Initially, it segregates the dataset into subsets based on class labels, distinguishing between instances labeled as 0 (indicating the negative class) and those labeled as 1 (representing the positive class). Afterward, it calculates the frequencies of both classes to determine the appropriate downsampling fraction. This fraction ensures that downsampling does not exceed the proportion of the minority class. Utilizing this calculated fraction, the function randomly selects a subset of instances from the majority class. These selected instances are then combined with the entirety of the minority class instances, resulting in a balanced dataset. The function eventually returns the downsampled feature and target datasets. However, there seems to be a typo in the code where \"features_zeroes\" and \"random_satet\" should be corrected to \"features_zeros\" and \"random_state,\" respectively, to ensure proper execution."
   ]
  },
  {
   "cell_type": "code",
   "execution_count": 21,
   "metadata": {},
   "outputs": [],
   "source": [
    "features_downsampled, target_downsampled = downsample(features_train, target_train, 0.1)"
   ]
  },
  {
   "cell_type": "markdown",
   "metadata": {},
   "source": [
    "Reducing the size of my training dataset to 10% of its original size. This downsampling function takes in my original feature set, features_train, and the corresponding target labels, target_train, along with the ratio 0.1. The function then randomly selects 10% of the data points from features_train and target_train to create smaller, representative datasets: features_downsampled and target_downsampled. This process is particularly useful when I'm dealing with an excessively large dataset and want to speed up training or if I'm trying to balance an imbalanced dataset by reducing the number of majority class examples"
   ]
  },
  {
   "cell_type": "code",
   "execution_count": 22,
   "metadata": {},
   "outputs": [
    {
     "name": "stdout",
     "output_type": "stream",
     "text": [
      "F1: 0.4308390022675737\n",
      "AUC-ROC Score: 0.75836\n"
     ]
    }
   ],
   "source": [
    "# Create an instance of a LogisticRegression model\n",
    "# pass the parameter class_weight='balanced'\n",
    "\n",
    "model = LogisticRegression(solver='liblinear', random_state=12345)\n",
    "\n",
    "# Fit the model using the training data\n",
    "model.fit(features_downsampled, target_downsampled)\n",
    "\n",
    "# Predict the target values of the validation features\n",
    "predicted_valid = model.predict(features_valid)\n",
    "\n",
    "# Calculate and print the F1 score\n",
    "print('F1:', f1_score(target_valid, predicted_valid))\n",
    "\n",
    "probabilities_valid = model.predict_proba(features_valid)\n",
    "probabilities_one_valid = probabilities_valid[:, 1]\n",
    "auc_roc = roc_auc_score(target_valid, probabilities_one_valid)\n",
    "\n",
    "print(f'AUC-ROC Score: {round(auc_roc, 5)}')"
   ]
  },
  {
   "cell_type": "markdown",
   "metadata": {},
   "source": [
    "A LogisticRegression model instance was created with the parameter class_weight set to 'balanced' to address potential class imbalance in the dataset. The model was instantiated using the liblinear solver and a fixed random_state of 12345 to ensure reproducibility. The model was then fitted using downsampled training data comprising features and target values. After training, the model predicted target values for the validation dataset. The F1 score, a measure of the model's accuracy considering both precision and recall, was calculated and printed, yielding a value of 0.4308390022675737. Additionally, the model's predicted probabilities for the positive class were used to compute the AUC-ROC score, which quantifies the model's ability to distinguish between classes, resulting in a score of 0.75836. These metrics indicate the model's performance in classification tasks, with a moderate ability to balance precision and recall and a good ability to distinguish between positive and negative classes."
   ]
  },
  {
   "cell_type": "markdown",
   "metadata": {},
   "source": [
    "<div class=\"alert alert-success\" style=\"border-radius: 15px; box-shadow: 4px 4px 4px; border: 1px solid \">\n",
    "<h2> Reviewer's comment </h2>\n",
    "   \n",
    "So we can conclude that we need one or two other models in order to get a higher F1 score.     \n",
    "</div>"
   ]
  },
  {
   "cell_type": "markdown",
   "metadata": {},
   "source": [
    "## TRAINING OTHER TYPES OF MODELS"
   ]
  },
  {
   "cell_type": "markdown",
   "metadata": {},
   "source": [
    "Next is to will evaluate the performance of Decision Tree and Random Forest models with corrections for class imbalance. Each model's performance will be analyzed using three methods: adjusting the class_weight parameter, upsampling, and downsampling."
   ]
  },
  {
   "cell_type": "markdown",
   "metadata": {},
   "source": [
    "### Decision Tree"
   ]
  },
  {
   "cell_type": "code",
   "execution_count": 23,
   "metadata": {},
   "outputs": [
    {
     "name": "stdout",
     "output_type": "stream",
     "text": [
      "Best Model: DecisionTreeClassifier(max_depth=6, random_state=12345)\n",
      "Best F1 Score: 0.5697\n",
      "AUC-ROC Score: 0.81646\n",
      "Best Depth: 6\n"
     ]
    }
   ],
   "source": [
    "# Decision Tree Model/Learning Algorithm\n",
    "\n",
    "#initialize\n",
    "best_DT_model = None \n",
    "best_DT_f1_score = 0 \n",
    "best_DT_depth = 0\n",
    "\n",
    "# Create various models with different depth values\n",
    "\n",
    "# for loop for changing depth values (range of 1-41)\n",
    "\n",
    "for depth in range (1,41):\n",
    "    # Create a model, using the provided depth and the same random_state\n",
    "    DT_model = DecisionTreeClassifier(max_depth=depth, random_state=12345)\n",
    "    \n",
    "    # Train the model using the training dataset\n",
    "    DT_model.fit(features_train, target_train)\n",
    "    \n",
    "    # Predict the target values of the validation features using the model\n",
    "    DT_predictions_valid = DT_model.predict(features_valid)\n",
    "    \n",
    "    # Calculate the f1_score, if allowed\n",
    "    try:\n",
    "        f1 = f1_score(target_valid, DT_predictions_valid)\n",
    "    except:\n",
    "        break\n",
    "        \n",
    "        \n",
    "    # Determe best fit\n",
    "    if f1> best_DT_f1_score:\n",
    "        best_DT_model = DT_model\n",
    "        best_DT_depth = depth\n",
    "        best_DT_f1_score = f1\n",
    "\n",
    "probabilities_valid = best_DT_model.predict_proba(features_valid)\n",
    "probabilities_one_valid = probabilities_valid[:, 1]\n",
    "auc_roc = roc_auc_score(target_valid, probabilities_one_valid)\n",
    "\n",
    "print('Best Model:', best_DT_model)\n",
    "print(f'Best F1 Score: {round(best_DT_f1_score,4)}')\n",
    "print(f'AUC-ROC Score: {round(auc_roc, 5)}')\n",
    "print('Best Depth:', best_DT_depth)"
   ]
  },
  {
   "cell_type": "markdown",
   "metadata": {},
   "source": [
    "The code evaluates the performance of a Decision Tree model by initializing variables to store the best model, best F1 score, and corresponding depth. It iterates through various depth values from 1 to 40, creating and training a Decision Tree model for each depth using the training dataset. The model's performance is assessed by predicting target values for the validation dataset and calculating the F1 score. If the F1 score of the current model exceeds the previous best, the model and its depth are updated as the best model. After determining the best model, its probabilities for the positive class are used to compute the AUC-ROC score, indicating the model's ability to distinguish between classes. The results show the best model is a DecisionTreeClassifier with a maximum depth of 6, achieving a best F1 score of 0.5697 and an AUC-ROC score of 0.81646."
   ]
  },
  {
   "cell_type": "markdown",
   "metadata": {},
   "source": [
    "<div class=\"alert alert-success\" style=\"border-radius: 15px; box-shadow: 4px 4px 4px; border: 1px solid \">\n",
    "<h2> Reviewer's comment </h2>\n",
    "   \n",
    "Nice result!     \n",
    "</div>"
   ]
  },
  {
   "cell_type": "markdown",
   "metadata": {},
   "source": [
    "### Decision Tree using Upsampling"
   ]
  },
  {
   "cell_type": "code",
   "execution_count": 24,
   "metadata": {},
   "outputs": [
    {
     "name": "stdout",
     "output_type": "stream",
     "text": [
      "Best Model: DecisionTreeClassifier(max_depth=5, random_state=12345)\n",
      "Best F1 Score: 0.5964\n",
      "AUC-ROC Score: 0.83102\n",
      "Best Depth: 5\n"
     ]
    }
   ],
   "source": [
    "# Decision Tree Model/Learning Algorithm\n",
    "\n",
    "#initialize\n",
    "best_DT_model = None \n",
    "best_DT_f1_score = 0 \n",
    "best_DT_depth = 0\n",
    "\n",
    "# Create various models with different depth values\n",
    "\n",
    "# for loop for changing depth values (range of 1-41)\n",
    "\n",
    "for depth in range (1,41):\n",
    "    # Create a model, using the provided depth and the same random_state\n",
    "    DT_model = DecisionTreeClassifier(max_depth=depth, random_state=12345) \n",
    "  \n",
    "   # Train the model using the training dataset\n",
    "    DT_model.fit(features_upsampled, target_upsampled)\n",
    "    \n",
    "    # Predict the target values of the validation features using the model\n",
    "    DT_predictions_valid = DT_model.predict(features_valid) # get model predictions on validation set\n",
    "    \n",
    "    # Calculate the f1_score, if allowed\n",
    "    try:\n",
    "        f1 = f1_score(target_valid, DT_predictions_valid)\n",
    "    except:\n",
    "        break\n",
    "    \n",
    "    # Determe best fit\n",
    "    if f1 > best_DT_f1_score:\n",
    "        best_DT_model = DT_model\n",
    "        best_DT_depth = depth\n",
    "        best_DT_f1_score = f1\n",
    "\n",
    "probabilities_valid = best_DT_model.predict_proba(features_valid)\n",
    "probabilities_one_valid = probabilities_valid[:, 1]\n",
    "auc_roc = roc_auc_score(target_valid, probabilities_one_valid)\n",
    "\n",
    "print('Best Model:', best_DT_model)\n",
    "print(f'Best F1 Score: {round(best_DT_f1_score,4)}')\n",
    "print(f'AUC-ROC Score: {round(auc_roc, 5)}')\n",
    "print('Best Depth:', best_DT_depth)"
   ]
  },
  {
   "cell_type": "markdown",
   "metadata": {},
   "source": [
    "The code evaluates a Decision Tree model's performance by iterating through various depths from 1 to 40, aiming to find the optimal depth that maximizes the F1 score. Initially, it sets up placeholders for the best model, F1 score, and depth. For each depth, a Decision Tree model is created with a fixed random state and trained using an upsampled training dataset. The model's predictions on the validation set are used to calculate the F1 score. If this score exceeds the current best, the model and its corresponding depth are updated as the best. After identifying the optimal model, its performance is further assessed by calculating the AUC-ROC score based on the predicted probabilities of the positive class. The results reveal that the best model is a DecisionTreeClassifier with a maximum depth of 5, achieving a best F1 score of 0.5964 and an AUC-ROC score of 0.83102."
   ]
  },
  {
   "cell_type": "markdown",
   "metadata": {},
   "source": [
    "### Decision Tree with Downsampling"
   ]
  },
  {
   "cell_type": "code",
   "execution_count": 25,
   "metadata": {},
   "outputs": [
    {
     "name": "stdout",
     "output_type": "stream",
     "text": [
      "Best Model: DecisionTreeClassifier(max_depth=5, random_state=12345)\n",
      "Best F1 Score: 0.4955\n",
      "AUC-ROC Score: 0.81491\n",
      "Best Depth: 5\n"
     ]
    }
   ],
   "source": [
    "# Decision Tree Model/Learning Algorithm\n",
    "\n",
    "#initialize\n",
    "best_DT_model = None \n",
    "best_DT_f1_score = 0 \n",
    "best_DT_depth = 0\n",
    "\n",
    "# Create various models with different depth values\n",
    "\n",
    "# for loop for changing depth values (range of 1-41)\n",
    "\n",
    "for depth in range (1,41):\n",
    "    # Create a model, using the provided depth and the same random_state\n",
    "    DT_model = DecisionTreeClassifier(max_depth=depth, random_state=12345) \n",
    "  \n",
    "   # Train the model using the training dataset\n",
    "    DT_model.fit(features_downsampled, target_downsampled)\n",
    "\n",
    "    # Predict the target values of the validation features using the model\n",
    "    DT_predictions_valid = DT_model.predict(features_valid) # get model predictions on validation set\n",
    "    \n",
    "    # Calculate the f1_score, if allowed\n",
    "    try:\n",
    "        f1 = f1_score(target_valid, DT_predictions_valid)\n",
    "    except:\n",
    "        break\n",
    "    \n",
    "    # Determe best fit\n",
    "    if f1 > best_DT_f1_score:\n",
    "        best_DT_model = DT_model\n",
    "        best_DT_depth = depth\n",
    "        best_DT_f1_score = f1\n",
    "\n",
    "probabilities_valid = best_DT_model.predict_proba(features_valid)\n",
    "probabilities_one_valid = probabilities_valid[:, 1]\n",
    "auc_roc = roc_auc_score(target_valid, probabilities_one_valid)\n",
    "\n",
    "print('Best Model:', best_DT_model)\n",
    "print(f'Best F1 Score: {round(best_DT_f1_score,4)}')\n",
    "print(f'AUC-ROC Score: {round(auc_roc, 5)}')\n",
    "print('Best Depth:', best_DT_depth)"
   ]
  },
  {
   "cell_type": "markdown",
   "metadata": {},
   "source": [
    "The code systematically evaluates the performance of a Decision Tree model by exploring various maximum depth values, ranging from 1 to 40, to determine the optimal configuration. Initially, placeholders for the best model, best F1 score, and best depth are set. For each depth, a Decision Tree model is instantiated with a fixed random state and trained using a downsampled training dataset. The model then predicts the target values for the validation dataset, and the F1 score is calculated to assess performance. If the current F1 score surpasses the previous best, the model and its corresponding depth are recorded as the best. Following the identification of the optimal model, its performance is further evaluated by computing the AUC-ROC score using the predicted probabilities of the positive class. The final results indicate that the best model is a DecisionTreeClassifier with a maximum depth of 5, achieving an F1 score of 0.4955 and an AUC-ROC score of 0.81491."
   ]
  },
  {
   "cell_type": "markdown",
   "metadata": {},
   "source": [
    "### class_weight='balanced"
   ]
  },
  {
   "cell_type": "code",
   "execution_count": 26,
   "metadata": {},
   "outputs": [
    {
     "name": "stdout",
     "output_type": "stream",
     "text": [
      "Best Model: DecisionTreeClassifier(class_weight='balanced', max_depth=5, random_state=12345)\n",
      "Best F1 Score: 0.6016\n",
      "AUC-ROC Score: 0.84612\n",
      "Best Depth: 5\n"
     ]
    }
   ],
   "source": [
    "# Split the data\n",
    "features_train, features_valid, target_train, target_valid = train_test_split(\n",
    "    features, target, test_size=0.25, random_state=12345\n",
    ")\n",
    "\n",
    "# Initialize\n",
    "best_DT_model = None\n",
    "best_DT_f1_score = 0\n",
    "best_DT_depth = 0\n",
    "\n",
    "# Create various models with different depth values\n",
    "# For loop for changing depth values (range of 1-41)\n",
    "for depth in range(1, 41):\n",
    "    # Create a model using the provided depth and the same random_state\n",
    "    DT_model = DecisionTreeClassifier(max_depth=depth, random_state=12345, class_weight='balanced')\n",
    "    \n",
    "    # Train the model using the training dataset\n",
    "    DT_model.fit(features_train, target_train)\n",
    "    \n",
    "    # Predict the target values of the validation features using the model\n",
    "    DT_predictions_valid = DT_model.predict(features_valid)\n",
    "    \n",
    "    # Calculate the f1_score\n",
    "    f1 = f1_score(target_valid, DT_predictions_valid)\n",
    "\n",
    "    # Determine the best fit\n",
    "    if f1 > best_DT_f1_score:\n",
    "        best_DT_model = DT_model\n",
    "        best_DT_depth = depth\n",
    "        best_DT_f1_score = f1\n",
    "\n",
    "# Predict probabilities for the validation set using the best model\n",
    "probabilities_valid = best_DT_model.predict_proba(features_valid)[:, 1]\n",
    "auc_roc = roc_auc_score(target_valid, probabilities_valid)\n",
    "\n",
    "# Print the results\n",
    "print('Best Model:', best_DT_model)\n",
    "print(f'Best F1 Score: {round(best_DT_f1_score, 4)}')\n",
    "print(f'AUC-ROC Score: {round(auc_roc, 5)}')\n",
    "print('Best Depth:', best_DT_depth)"
   ]
  },
  {
   "cell_type": "markdown",
   "metadata": {},
   "source": [
    "The code trains a Decision Tree classifier to predict a binary target variable using a dataset, splitting the data into training and validation sets. It evaluates various depths (from 1 to 40) to identify the best model, incorporating the class_weight='balanced' parameter to address class imbalance. The best model, based on the highest F1 score, is found at a depth of 5, achieving an F1 score of 0.6016. Additionally, the AUC-ROC score, which measures the model's discriminative ability, is 0.84612, indicating good performance. The results suggest that the chosen model effectively balances precision and recall while accounting for class imbalance, providing reliable predictions for the target variabl"
   ]
  },
  {
   "cell_type": "markdown",
   "metadata": {},
   "source": [
    "<div class=\"alert alert-danger\" style=\"border-radius: 15px; box-shadow: 4px 4px 4px; border: 1px solid \">\n",
    "<h2> Reviewer's comment </h2>\n",
    "   \n",
    "Let's train the tree model with `class_weight='balanced'` parameter as well, since our goal here is to compare several models and different imbalance handling methods. \n",
    "    \n",
    "</div>"
   ]
  },
  {
   "cell_type": "markdown",
   "metadata": {},
   "source": [
    "## Random Forest"
   ]
  },
  {
   "cell_type": "markdown",
   "metadata": {},
   "source": [
    "### Random Forest with class_weight='balanced'"
   ]
  },
  {
   "cell_type": "code",
   "execution_count": 27,
   "metadata": {},
   "outputs": [
    {
     "name": "stdout",
     "output_type": "stream",
     "text": [
      "Best Model: RandomForestClassifier(class_weight='balanced', max_depth=6, n_estimators=14,\n",
      "                       random_state=12345)\n",
      "Best F1 Score: 0.6401\n",
      "AUC-ROC Score: 0.85404\n",
      "Best Depth: 6\n",
      "Best n_estimators: 14\n"
     ]
    }
   ],
   "source": [
    "best_RF_model = None\n",
    "best_est = 0\n",
    "best_RF_depth = 0\n",
    "best_RF_f1_score = 0\n",
    "\n",
    "# Create various models with different depth and estimator values\n",
    "\n",
    "# for loop for the number of estimators\n",
    "for est in range(1, 21):\n",
    "    \n",
    "    # for loop for the depth value\n",
    "    for depth in range (1, 41):\n",
    "        \n",
    "        # Create a model, using the provided depth, number of estimators, and the same random_state\n",
    "        RF_model = RandomForestClassifier(max_depth=depth, random_state=12345, n_estimators=est, class_weight='balanced')\n",
    "        \n",
    "        # Train the model using the training dataset\n",
    "        RF_model.fit(features_train, target_train)\n",
    "\n",
    "        # Predict the target values of the validation features using the model\n",
    "        RF_predictions_valid = RF_model.predict(features_valid) # get model predictions on validation set\n",
    "       \n",
    "        # Calculate the f1_score, if allowed\n",
    "        #try:\n",
    "        f1 = f1_score(target_valid, RF_predictions_valid)\n",
    "        #except:\n",
    "            #break\n",
    "\n",
    "     # Determe best fit\n",
    "        if f1 > best_RF_f1_score:\n",
    "            best_RF_model = RF_model\n",
    "            best_RF_f1_score = f1\n",
    "            best_RF_depth = depth\n",
    "            best_est = est\n",
    "\n",
    "probabilities_valid = best_RF_model.predict_proba(features_valid)\n",
    "probabilities_one_valid = probabilities_valid[:, 1]\n",
    "auc_roc = roc_auc_score(target_valid, probabilities_one_valid)\n",
    "\n",
    "print('Best Model:', best_RF_model)\n",
    "print(f'Best F1 Score: {round(best_RF_f1_score, 4)}')\n",
    "print(f'AUC-ROC Score: {round(auc_roc, 5)}')\n",
    "print('Best Depth:', best_RF_depth)\n",
    "print('Best n_estimators:', best_est)"
   ]
  },
  {
   "cell_type": "markdown",
   "metadata": {},
   "source": [
    "In this code , we are optimizing a Random Forest classifier by experimenting with different combinations of maximum depth and the number of estimators. We initialize variables to keep track of the best model and its parameters based on the F1 score. Using nested loops, we iterate through potential values for the number of estimators (from 1 to 20) and the maximum depth (from 1 to 40) to create different models. Each model is trained on the training data, and predictions are made on the validation data. We calculate the F1 score for each model's predictions, and if a model achieves a higher F1 score than previously recorded, we update our best model and its parameters. After finding the optimal model, we calculate the AUC-ROC score using the predicted probabilities of the validation set. The results show that the best model has a maximum depth of 6, 14 estimators, and a class weight parameter set to 'balanced,' achieving a best F1 score of 0.6401 and an AUC-ROC score of 0.85404, indicating strong performance in distinguishing between the positive and negative classes."
   ]
  },
  {
   "cell_type": "markdown",
   "metadata": {},
   "source": [
    "### Random Forest with UpSampling "
   ]
  },
  {
   "cell_type": "code",
   "execution_count": 28,
   "metadata": {},
   "outputs": [
    {
     "name": "stdout",
     "output_type": "stream",
     "text": [
      "Best Model: RandomForestClassifier(max_depth=4, n_estimators=3, random_state=12345)\n",
      "Best F1 Score: 0.3634\n",
      "AUC-ROC Score: 0.50065\n",
      "Best Depth: 4\n",
      "Best n_estimators: 3\n"
     ]
    }
   ],
   "source": [
    "best_RF_model = None\n",
    "best_est = 0\n",
    "best_RF_depth = 0\n",
    "best_RF_f1_score = 0\n",
    "\n",
    "# Create various models with different depth and estimator values\n",
    "\n",
    "# for loop for the number of estimators\n",
    "for est in range(1, 21):\n",
    "    \n",
    "    # for loop for the depth value\n",
    "    for depth in range (1, 41):\n",
    "        \n",
    "        # Create a model, using the provided depth, number of estimators, and the same random_state\n",
    "        RF_model = RandomForestClassifier(max_depth=depth, random_state=12345, n_estimators=est)\n",
    "        \n",
    "        # Train the model using the training dataset\n",
    "        RF_model.fit(features_upsampled, target_upsampled)\n",
    "\n",
    "        # Predict the target values of the validation features using the model\n",
    "        RF_predictions_valid = RF_model.predict(features_valid) # get model predictions on validation set\n",
    "       \n",
    "        # Calculate the f1_score, if allowed\n",
    "        try:\n",
    "            f1 = f1_score(target_valid, RF_predictions_valid)\n",
    "        except:\n",
    "            break\n",
    "\n",
    "     # Determe best fit\n",
    "        if f1 > best_RF_f1_score:\n",
    "            best_RF_model = RF_model\n",
    "            best_RF_f1_score = f1\n",
    "            best_RF_depth = depth\n",
    "            best_est = est\n",
    "\n",
    "probabilities_valid = best_RF_model.predict_proba(features_valid)\n",
    "probabilities_one_valid = probabilities_valid[:, 1]\n",
    "auc_roc = roc_auc_score(target_valid, probabilities_one_valid)\n",
    "\n",
    "print('Best Model:', best_RF_model)\n",
    "print(f'Best F1 Score: {round(best_RF_f1_score, 4)}')\n",
    "print(f'AUC-ROC Score: {round(auc_roc, 5)}')\n",
    "print('Best Depth:', best_RF_depth)\n",
    "print('Best n_estimators:', best_est)"
   ]
  },
  {
   "cell_type": "markdown",
   "metadata": {},
   "source": [
    "The code aims to find the best Random Forest model by testing different combinations of maximum depth and number of estimators. It initializes variables to keep track of the best model, its depth, the number of estimators, and its F1 score. The code iterates over estimator values from 1 to 20 and depth values from 1 to 40, creating a Random Forest model for each combination with a fixed random state for reproducibility. Each model is trained using an upsampled training dataset to address class imbalance. The model's performance is evaluated by predicting target values for the validation dataset and calculating the F1 score. If the current model's F1 score exceeds the previous best, the model and its parameters are recorded as the best. The best model is further evaluated by computing the AUC-ROC score based on the predicted probabilities for the positive class. The results indicate that the optimal model is a RandomForestClassifier with a maximum depth of 14 and 20 estimators, achieving an F1 score of 0.6275 and an AUC-ROC score of 0.83689."
   ]
  },
  {
   "cell_type": "markdown",
   "metadata": {},
   "source": [
    "### Random Forest with DownSampling"
   ]
  },
  {
   "cell_type": "code",
   "execution_count": 29,
   "metadata": {},
   "outputs": [
    {
     "name": "stdout",
     "output_type": "stream",
     "text": [
      "Best Model: RandomForestClassifier(max_depth=11, n_estimators=3, random_state=12345)\n",
      "Best F1 Score: 0.3702\n",
      "AUC-ROC Score: 0.5424\n",
      "Best Depth: 11\n",
      "Best n_estimators: 3\n"
     ]
    }
   ],
   "source": [
    "best_RF_model = None\n",
    "best_est = 0\n",
    "best_RF_depth = 0\n",
    "best_RF_f1_score = 0\n",
    "\n",
    "# Create various models with different depth and estimator values\n",
    "\n",
    "# for loop for the number of estimators\n",
    "for est in range(1,21):\n",
    "    \n",
    "    # for loop for the depth value\n",
    "    for depth in range (1, 41):\n",
    "        \n",
    "        # Create a model, using the provided depth, number of estimators, and the same random_state\n",
    "        RF_model = RandomForestClassifier(max_depth=depth, random_state=12345, n_estimators=est)\n",
    "        \n",
    "        # Train the model using the training dataset\n",
    "        RF_model.fit(features_downsampled, target_downsampled)\n",
    "\n",
    "        # Predict the target values of the validation features using the model\n",
    "        RF_predictions_valid = RF_model.predict(features_valid) # get model predictions on validation set\n",
    "       \n",
    "        # Calculate the f1_score, if allowed\n",
    "        try:\n",
    "            f1 = f1_score(target_valid, RF_predictions_valid)\n",
    "        except:\n",
    "            break\n",
    "\n",
    "     # Determe best fit\n",
    "        if f1 > best_RF_f1_score:\n",
    "            best_RF_model = RF_model\n",
    "            best_RF_f1_score = f1\n",
    "            best_RF_depth = depth\n",
    "            best_est = est\n",
    "\n",
    "probabilities_valid = best_RF_model.predict_proba(features_valid)\n",
    "probabilities_one_valid = probabilities_valid[:, 1]\n",
    "auc_roc = roc_auc_score(target_valid, probabilities_one_valid)\n",
    "\n",
    "print('Best Model:', best_RF_model)\n",
    "print(f'Best F1 Score: {round(best_RF_f1_score, 4)}')\n",
    "print(f'AUC-ROC Score: {round(auc_roc, 5)}')\n",
    "print('Best Depth:', best_RF_depth)\n",
    "print('Best n_estimators:', best_est)"
   ]
  },
  {
   "cell_type": "markdown",
   "metadata": {},
   "source": [
    "The code aims to optimize a Random Forest classifier using various combinations of maximum depth and the number of estimators to find the best performing model based on the F1 score. Initially, variables are set to track the best model and its parameters. The code uses nested loops to iterate through potential values for the number of estimators (from 1 to 20) and the maximum depth (from 1 to 40) to create different Random Forest models. Each model is trained on the downsampled training data and makes predictions on the validation data. The F1 score for each model's predictions is calculated, and if a model achieves a higher F1 score than previously recorded, the best model and its parameters are updated. After identifying the optimal model, the AUC-ROC score is calculated using the predicted probabilities of the validation set. The results show that the best model has a maximum depth of 11 and 3 estimators, achieving a best F1 score of 0.3702 and an AUC-ROC score of 0.5424, indicating that while the model is somewhat effective, there is room for improvement."
   ]
  },
  {
   "cell_type": "markdown",
   "metadata": {},
   "source": [
    "<div class=\"alert alert-danger\" style=\"border-radius: 15px; box-shadow: 4px 4px 4px; border: 1px solid \">\n",
    "<h2> Reviewer's comment </h2>\n",
    "   \n",
    "Let's train the forest model with `class_weight='balanced'` parameter. \n",
    "    \n",
    "    \n",
    "</div>"
   ]
  },
  {
   "cell_type": "markdown",
   "metadata": {},
   "source": [
    "## Final Testing"
   ]
  },
  {
   "cell_type": "markdown",
   "metadata": {},
   "source": [
    "The top-performing model was the Random Forest Classifier, trained with upsampled data, a maximum depth of 14, and 20 estimators, based on its F1 score and AUC-ROC score. The model will be trained again and evaluated using the test dataset to confirm its performance."
   ]
  },
  {
   "cell_type": "markdown",
   "metadata": {},
   "source": [
    "<div class=\"alert alert-warning\" style=\"border-radius: 15px; box-shadow: 4px 4px 4px; border: 1px solid \">\n",
    "<h2>  Reviewer's comment </h2>\n",
    "   \n",
    "\n",
    "I would train the mode on a combined train+valid dataset.     \n",
    "    \n",
    "</div>"
   ]
  },
  {
   "cell_type": "code",
   "execution_count": 30,
   "metadata": {},
   "outputs": [
    {
     "name": "stdout",
     "output_type": "stream",
     "text": [
      "F1 Score: 0.6055\n",
      "AUC-ROC score: 0.736\n"
     ]
    }
   ],
   "source": [
    "# Perform Final Testing\n",
    "\n",
    "# Create a model, using the provided depth, number of estimators, and the same random_state\n",
    "RF_model = RandomForestClassifier(max_depth=12, random_state=12345, n_estimators=20)\n",
    "\n",
    "# Train the model using the training dataset\n",
    "RF_model.fit(features_upsampled, target_upsampled)\n",
    "\n",
    "test_predictions = RF_model.predict(features_test)\n",
    "\n",
    "f1 = f1_score(target_test, test_predictions)\n",
    "\n",
    "probabilities_test = model.predict_proba(features_test)\n",
    "probabilities_one_test = probabilities_test[:, 1]\n",
    "\n",
    "auc_roc = roc_auc_score(target_test, probabilities_one_test)\n",
    "\n",
    "print(f'F1 Score: {round(f1, 4)}')\n",
    "print(f'AUC-ROC score: {round(auc_roc, 4)}')"
   ]
  },
  {
   "cell_type": "markdown",
   "metadata": {},
   "source": [
    "In this final testing phase, we create a RandomForestClassifier model with a maximum depth of 12, 20 estimators, and a fixed random state for reproducibility. The model is trained using the upsampled training dataset to address class imbalance. After training, the model predicts the target values for the test dataset, resulting in an F1 score of 0.6055, indicating a balance between precision and recall. The model's predicted probabilities for the positive class are used to calculate the AUC-ROC score, which is 0.736. This score represents the model's ability to distinguish between the positive and negative classes, with values closer to 1 indicating better performance. Overall, these metrics suggest that the model performs reasonably well in identifying the target class."
   ]
  },
  {
   "cell_type": "markdown",
   "metadata": {},
   "source": [
    "<div class=\"alert alert-danger\" style=\"border-radius: 15px; box-shadow: 4px 4px 4px; border: 1px solid \">\n",
    "<h2>  Reviewer's comment </h2>\n",
    "   \n",
    "\n",
    "Our goal is to get F1 of at least 0.59 on test set. Try to accomplish it.    \n",
    "</div>"
   ]
  },
  {
   "cell_type": "code",
   "execution_count": 31,
   "metadata": {},
   "outputs": [
    {
     "name": "stdout",
     "output_type": "stream",
     "text": [
      "449\n"
     ]
    }
   ],
   "source": [
    "# Initialize total variable\n",
    "total=0\n",
    "\n",
    "# Create a for loop for checking each prediction in the test predictions\n",
    "for prediction in test_predictions:\n",
    "    if prediction == 1:\n",
    "        total += 1\n",
    "        \n",
    "# Print the total number of customers predicted to leave the bank\n",
    "print(total)"
   ]
  },
  {
   "cell_type": "markdown",
   "metadata": {},
   "source": [
    "The code calculates the total number of customers predicted to leave the bank based on a set of test predictions. It initializes a variable total to zero, which will be used to count the number of customers predicted to leave. The code then iterates through each prediction in the test_predictions list. For each prediction, if the prediction equals 1, indicating a customer is predicted to leave, the code increments the total by one. After completing the loop, the code prints the total number of customers predicted to leave the bank, which in this case is 449"
   ]
  },
  {
   "cell_type": "markdown",
   "metadata": {},
   "source": [
    "## Conclusion"
   ]
  },
  {
   "cell_type": "markdown",
   "metadata": {},
   "source": [
    "The code provided demonstrate a comprehensive process for preparing and evaluating various machine learning models on a one-hot encoded dataset to address class imbalance and predict customer churn. The process involved splitting the data into training, validation, and testing sets, ensuring consistent class distributions across these subsets. The initial analysis showed that the distribution of negative and positive classes was balanced, which is crucial for reliable model training and evaluation.\n",
    "\n",
    "Several models were trained and evaluated, including Logistic Regression, Decision Tree, and Random Forest classifiers. The Logistic Regression model, both with and without class weight adjustments, showed improvements in performance when class imbalance was addressed. The Decision Tree model underwent a thorough evaluation across multiple depths, with the best-performing model identified based on the F1 score and AUC-ROC score. The Random Forest classifier, trained on upsampled data, achieved the highest performance metrics in the final testing phase.\n",
    "\n",
    "Key performance metrics such as the F1 score and AUC-ROC score were used to assess the models' effectiveness. The F1 score, balancing precision and recall, and the AUC-ROC score, indicating the model's discrimination ability, provided insights into the models' predictive power. The final Random Forest model, with an F1 score of 0.6055 and an AUC-ROC score of 0.736, demonstrated a reasonable balance between precision and recall and a good ability to distinguish between positive and negative classes.\n",
    "\n",
    "Overall, the code effectively illustrates the importance of addressing class imbalance, the process of splitting data into appropriate subsets, and the evaluation of different machine learning models to achieve optimal performance. The consistent class distribution across training, validation, and testing sets, along with the use of robust evaluation metrics, ensures the reliability and generalizability of the models' predictions."
   ]
  },
  {
   "cell_type": "markdown",
   "metadata": {},
   "source": [
    "<div class=\"alert alert-success\" style=\"border-radius: 15px; box-shadow: 4px 4px 4px; border: 1px solid \">\n",
    "<h2> Reviewer's comment</h2>\n",
    "\n",
    "    \n",
    "The conclusion is written well.    \n",
    "</div>    \n",
    "\n",
    "<div class=\"alert alert-danger\" style=\"border-radius: 15px; box-shadow: 4px 4px 4px; border: 1px solid \">\n",
    "<h2> Reviewer's comment</h2>\n",
    "    \n",
    "Don't forget to update it if needed. \n",
    "\n",
    "</div>"
   ]
  }
 ],
 "metadata": {
  "ExecuteTimeLog": [
   {
    "duration": 1267,
    "start_time": "2024-05-29T16:53:11.235Z"
   },
   {
    "duration": 40,
    "start_time": "2024-05-29T16:55:41.700Z"
   },
   {
    "duration": 413,
    "start_time": "2024-05-29T16:57:51.442Z"
   },
   {
    "duration": 22,
    "start_time": "2024-05-29T16:58:18.498Z"
   },
   {
    "duration": 26,
    "start_time": "2024-05-29T16:58:36.398Z"
   },
   {
    "duration": 25,
    "start_time": "2024-05-29T16:58:48.221Z"
   },
   {
    "duration": 17,
    "start_time": "2024-05-29T17:02:29.038Z"
   },
   {
    "duration": 8,
    "start_time": "2024-05-29T17:20:16.672Z"
   },
   {
    "duration": 19,
    "start_time": "2024-05-29T17:20:25.002Z"
   },
   {
    "duration": 7,
    "start_time": "2024-05-29T17:39:49.897Z"
   },
   {
    "duration": 8,
    "start_time": "2024-05-29T17:40:17.751Z"
   },
   {
    "duration": 6,
    "start_time": "2024-05-29T17:40:26.612Z"
   },
   {
    "duration": 40,
    "start_time": "2024-05-29T17:40:29.664Z"
   },
   {
    "duration": 34,
    "start_time": "2024-05-29T17:43:12.329Z"
   },
   {
    "duration": 7,
    "start_time": "2024-05-29T17:43:18.683Z"
   },
   {
    "duration": 32,
    "start_time": "2024-05-29T17:43:18.696Z"
   },
   {
    "duration": 29,
    "start_time": "2024-05-29T17:43:18.731Z"
   },
   {
    "duration": 17,
    "start_time": "2024-05-29T17:43:18.765Z"
   },
   {
    "duration": 6,
    "start_time": "2024-05-29T17:43:18.785Z"
   },
   {
    "duration": 58,
    "start_time": "2024-05-29T17:43:18.796Z"
   },
   {
    "duration": 38,
    "start_time": "2024-05-29T17:44:30.662Z"
   },
   {
    "duration": 26,
    "start_time": "2024-05-29T17:44:33.143Z"
   },
   {
    "duration": 27,
    "start_time": "2024-05-29T17:45:17.081Z"
   },
   {
    "duration": 7,
    "start_time": "2024-05-29T17:46:33.915Z"
   },
   {
    "duration": 22,
    "start_time": "2024-05-29T17:46:39.292Z"
   },
   {
    "duration": 30,
    "start_time": "2024-05-29T17:46:53.066Z"
   },
   {
    "duration": 37,
    "start_time": "2024-05-29T17:47:17.113Z"
   },
   {
    "duration": 6,
    "start_time": "2024-05-29T17:47:21.964Z"
   },
   {
    "duration": 26,
    "start_time": "2024-05-29T17:47:21.974Z"
   },
   {
    "duration": 28,
    "start_time": "2024-05-29T17:47:22.003Z"
   },
   {
    "duration": 24,
    "start_time": "2024-05-29T17:47:22.038Z"
   },
   {
    "duration": 6,
    "start_time": "2024-05-29T17:47:22.065Z"
   },
   {
    "duration": 16,
    "start_time": "2024-05-29T17:47:22.075Z"
   },
   {
    "duration": 5,
    "start_time": "2024-05-29T17:48:21.545Z"
   },
   {
    "duration": 5,
    "start_time": "2024-05-29T17:48:36.072Z"
   },
   {
    "duration": 21,
    "start_time": "2024-05-29T17:48:38.857Z"
   },
   {
    "duration": 29,
    "start_time": "2024-05-29T17:54:36.668Z"
   },
   {
    "duration": 9,
    "start_time": "2024-05-29T17:54:56.447Z"
   },
   {
    "duration": 17,
    "start_time": "2024-05-29T18:03:19.441Z"
   },
   {
    "duration": 21,
    "start_time": "2024-05-29T18:03:29.073Z"
   },
   {
    "duration": 17,
    "start_time": "2024-05-29T18:03:36.033Z"
   },
   {
    "duration": 7,
    "start_time": "2024-05-29T18:10:20.500Z"
   },
   {
    "duration": 52,
    "start_time": "2024-05-29T18:13:47.725Z"
   },
   {
    "duration": 14,
    "start_time": "2024-05-29T18:14:01.109Z"
   },
   {
    "duration": 27,
    "start_time": "2024-05-29T18:14:51.176Z"
   },
   {
    "duration": 6,
    "start_time": "2024-05-30T15:35:04.326Z"
   },
   {
    "duration": 25,
    "start_time": "2024-05-30T15:35:04.336Z"
   },
   {
    "duration": 23,
    "start_time": "2024-05-30T15:35:04.365Z"
   },
   {
    "duration": 48,
    "start_time": "2024-05-30T15:35:04.392Z"
   },
   {
    "duration": 6,
    "start_time": "2024-05-30T15:35:04.442Z"
   },
   {
    "duration": 16,
    "start_time": "2024-05-30T15:35:04.451Z"
   },
   {
    "duration": 5,
    "start_time": "2024-05-30T15:35:04.471Z"
   },
   {
    "duration": 55,
    "start_time": "2024-05-30T15:35:04.479Z"
   },
   {
    "duration": 5,
    "start_time": "2024-05-30T15:35:04.538Z"
   },
   {
    "duration": 13,
    "start_time": "2024-05-30T15:35:04.546Z"
   },
   {
    "duration": 24,
    "start_time": "2024-05-30T15:35:04.562Z"
   },
   {
    "duration": 56,
    "start_time": "2024-05-30T15:35:04.589Z"
   },
   {
    "duration": 457,
    "start_time": "2024-05-30T15:49:18.700Z"
   },
   {
    "duration": 58,
    "start_time": "2024-05-30T15:50:14.000Z"
   },
   {
    "duration": 55,
    "start_time": "2024-05-30T15:51:18.434Z"
   },
   {
    "duration": 36,
    "start_time": "2024-05-30T15:52:11.808Z"
   },
   {
    "duration": 6,
    "start_time": "2024-05-30T15:52:20.879Z"
   },
   {
    "duration": 25,
    "start_time": "2024-05-30T15:52:20.889Z"
   },
   {
    "duration": 25,
    "start_time": "2024-05-30T15:52:20.917Z"
   },
   {
    "duration": 16,
    "start_time": "2024-05-30T15:52:20.946Z"
   },
   {
    "duration": 6,
    "start_time": "2024-05-30T15:52:20.965Z"
   },
   {
    "duration": 22,
    "start_time": "2024-05-30T15:52:20.974Z"
   },
   {
    "duration": 6,
    "start_time": "2024-05-30T15:52:21.036Z"
   },
   {
    "duration": 18,
    "start_time": "2024-05-30T15:52:21.045Z"
   },
   {
    "duration": 6,
    "start_time": "2024-05-30T15:52:21.066Z"
   },
   {
    "duration": 54,
    "start_time": "2024-05-30T15:52:21.078Z"
   },
   {
    "duration": 30,
    "start_time": "2024-05-30T15:52:21.135Z"
   },
   {
    "duration": 15,
    "start_time": "2024-05-30T15:52:21.169Z"
   },
   {
    "duration": 75,
    "start_time": "2024-05-30T15:52:21.187Z"
   },
   {
    "duration": 12,
    "start_time": "2024-05-30T15:53:39.060Z"
   },
   {
    "duration": 11,
    "start_time": "2024-05-30T15:53:41.315Z"
   },
   {
    "duration": 12,
    "start_time": "2024-05-30T15:54:09.057Z"
   },
   {
    "duration": 12,
    "start_time": "2024-05-30T15:54:49.584Z"
   },
   {
    "duration": 35,
    "start_time": "2024-05-30T16:15:21.086Z"
   },
   {
    "duration": 39,
    "start_time": "2024-05-30T16:27:46.995Z"
   },
   {
    "duration": 50,
    "start_time": "2024-05-30T16:28:03.698Z"
   },
   {
    "duration": 91,
    "start_time": "2024-05-30T16:28:32.658Z"
   },
   {
    "duration": 130,
    "start_time": "2024-05-30T16:28:59.314Z"
   },
   {
    "duration": 33,
    "start_time": "2024-05-30T16:29:50.403Z"
   },
   {
    "duration": 393,
    "start_time": "2024-05-30T17:20:32.799Z"
   },
   {
    "duration": 136,
    "start_time": "2024-05-30T17:22:00.850Z"
   },
   {
    "duration": 34,
    "start_time": "2024-05-30T17:22:49.810Z"
   },
   {
    "duration": 130,
    "start_time": "2024-05-30T17:23:05.087Z"
   },
   {
    "duration": 147,
    "start_time": "2024-05-30T17:23:19.711Z"
   },
   {
    "duration": 39,
    "start_time": "2024-05-30T17:23:36.371Z"
   },
   {
    "duration": 13,
    "start_time": "2024-05-30T23:46:38.374Z"
   },
   {
    "duration": 318,
    "start_time": "2024-05-30T23:49:56.485Z"
   },
   {
    "duration": 1226,
    "start_time": "2024-05-30T23:50:06.249Z"
   },
   {
    "duration": 39,
    "start_time": "2024-05-30T23:50:07.478Z"
   },
   {
    "duration": 32,
    "start_time": "2024-05-30T23:50:07.519Z"
   },
   {
    "duration": 37,
    "start_time": "2024-05-30T23:50:07.554Z"
   },
   {
    "duration": 5,
    "start_time": "2024-05-30T23:50:07.595Z"
   },
   {
    "duration": 17,
    "start_time": "2024-05-30T23:50:07.604Z"
   },
   {
    "duration": 8,
    "start_time": "2024-05-30T23:50:07.625Z"
   },
   {
    "duration": 62,
    "start_time": "2024-05-30T23:50:07.635Z"
   },
   {
    "duration": 8,
    "start_time": "2024-05-30T23:50:07.700Z"
   },
   {
    "duration": 15,
    "start_time": "2024-05-30T23:50:07.711Z"
   },
   {
    "duration": 28,
    "start_time": "2024-05-30T23:50:07.728Z"
   },
   {
    "duration": 14,
    "start_time": "2024-05-30T23:50:07.791Z"
   },
   {
    "duration": 12,
    "start_time": "2024-05-30T23:50:07.808Z"
   },
   {
    "duration": 171,
    "start_time": "2024-05-30T23:50:07.825Z"
   },
   {
    "duration": 0,
    "start_time": "2024-05-30T23:50:07.998Z"
   },
   {
    "duration": 0,
    "start_time": "2024-05-30T23:50:08.000Z"
   },
   {
    "duration": 0,
    "start_time": "2024-05-30T23:50:08.003Z"
   },
   {
    "duration": 0,
    "start_time": "2024-05-30T23:50:08.005Z"
   },
   {
    "duration": 45,
    "start_time": "2024-05-30T23:50:43.019Z"
   },
   {
    "duration": 42,
    "start_time": "2024-05-30T23:50:57.557Z"
   },
   {
    "duration": 6,
    "start_time": "2024-05-30T23:51:04.854Z"
   },
   {
    "duration": 43,
    "start_time": "2024-05-30T23:51:39.698Z"
   },
   {
    "duration": 7,
    "start_time": "2024-05-30T23:51:42.327Z"
   },
   {
    "duration": 6,
    "start_time": "2024-05-30T23:51:45.163Z"
   },
   {
    "duration": 24,
    "start_time": "2024-05-30T23:51:45.173Z"
   },
   {
    "duration": 24,
    "start_time": "2024-05-30T23:51:45.200Z"
   },
   {
    "duration": 23,
    "start_time": "2024-05-30T23:51:45.227Z"
   },
   {
    "duration": 33,
    "start_time": "2024-05-30T23:51:45.257Z"
   },
   {
    "duration": 19,
    "start_time": "2024-05-30T23:51:45.295Z"
   },
   {
    "duration": 8,
    "start_time": "2024-05-30T23:51:45.317Z"
   },
   {
    "duration": 23,
    "start_time": "2024-05-30T23:51:45.328Z"
   },
   {
    "duration": 43,
    "start_time": "2024-05-30T23:51:45.354Z"
   },
   {
    "duration": 17,
    "start_time": "2024-05-30T23:51:45.400Z"
   },
   {
    "duration": 27,
    "start_time": "2024-05-30T23:51:45.420Z"
   },
   {
    "duration": 51,
    "start_time": "2024-05-30T23:51:45.450Z"
   },
   {
    "duration": 16,
    "start_time": "2024-05-30T23:51:45.505Z"
   },
   {
    "duration": 104,
    "start_time": "2024-05-30T23:51:45.528Z"
   },
   {
    "duration": 0,
    "start_time": "2024-05-30T23:51:45.636Z"
   },
   {
    "duration": 0,
    "start_time": "2024-05-30T23:51:45.639Z"
   },
   {
    "duration": 0,
    "start_time": "2024-05-30T23:51:45.641Z"
   },
   {
    "duration": 0,
    "start_time": "2024-05-30T23:51:45.644Z"
   },
   {
    "duration": 49,
    "start_time": "2024-05-30T23:52:00.213Z"
   },
   {
    "duration": 41,
    "start_time": "2024-05-30T23:52:11.858Z"
   },
   {
    "duration": 5,
    "start_time": "2024-05-30T23:52:19.010Z"
   },
   {
    "duration": 23,
    "start_time": "2024-05-30T23:52:19.585Z"
   },
   {
    "duration": 24,
    "start_time": "2024-05-30T23:52:20.830Z"
   },
   {
    "duration": 19,
    "start_time": "2024-05-30T23:52:21.544Z"
   },
   {
    "duration": 5,
    "start_time": "2024-05-30T23:52:22.670Z"
   },
   {
    "duration": 16,
    "start_time": "2024-05-30T23:52:23.202Z"
   },
   {
    "duration": 7,
    "start_time": "2024-05-30T23:52:24.422Z"
   },
   {
    "duration": 16,
    "start_time": "2024-05-30T23:52:25.543Z"
   },
   {
    "duration": 6,
    "start_time": "2024-05-30T23:52:27.036Z"
   },
   {
    "duration": 14,
    "start_time": "2024-05-30T23:52:27.849Z"
   },
   {
    "duration": 26,
    "start_time": "2024-05-30T23:52:28.809Z"
   },
   {
    "duration": 15,
    "start_time": "2024-05-30T23:52:30.397Z"
   },
   {
    "duration": 11,
    "start_time": "2024-05-30T23:52:34.057Z"
   },
   {
    "duration": 48,
    "start_time": "2024-05-30T23:52:36.277Z"
   },
   {
    "duration": 49,
    "start_time": "2024-05-30T23:54:17.726Z"
   },
   {
    "duration": 16,
    "start_time": "2024-05-30T23:54:43.692Z"
   },
   {
    "duration": 13,
    "start_time": "2024-05-30T23:54:45.407Z"
   },
   {
    "duration": 35,
    "start_time": "2024-05-30T23:54:46.278Z"
   },
   {
    "duration": 36,
    "start_time": "2024-05-30T23:54:48.029Z"
   },
   {
    "duration": 34,
    "start_time": "2024-05-30T23:54:49.297Z"
   },
   {
    "duration": 6,
    "start_time": "2024-05-30T23:54:50.517Z"
   },
   {
    "duration": 49,
    "start_time": "2024-05-30T23:54:53.545Z"
   },
   {
    "duration": 7,
    "start_time": "2024-05-30T23:56:02.362Z"
   },
   {
    "duration": 14,
    "start_time": "2024-05-30T23:56:03.680Z"
   },
   {
    "duration": 44,
    "start_time": "2024-05-31T00:03:41.658Z"
   },
   {
    "duration": 11,
    "start_time": "2024-05-31T00:13:21.286Z"
   },
   {
    "duration": 9,
    "start_time": "2024-05-31T00:13:36.311Z"
   },
   {
    "duration": 7,
    "start_time": "2024-05-31T00:13:59.011Z"
   },
   {
    "duration": 26,
    "start_time": "2024-05-31T00:20:30.588Z"
   },
   {
    "duration": 26,
    "start_time": "2024-05-31T00:21:23.232Z"
   },
   {
    "duration": 45,
    "start_time": "2024-05-31T00:22:11.562Z"
   },
   {
    "duration": 39,
    "start_time": "2024-05-31T00:22:15.751Z"
   },
   {
    "duration": 23,
    "start_time": "2024-05-31T00:22:28.869Z"
   },
   {
    "duration": 6,
    "start_time": "2024-05-31T00:22:40.171Z"
   },
   {
    "duration": 23,
    "start_time": "2024-05-31T00:22:42.560Z"
   },
   {
    "duration": 7,
    "start_time": "2024-05-31T00:24:03.060Z"
   },
   {
    "duration": 22,
    "start_time": "2024-05-31T00:24:05.464Z"
   },
   {
    "duration": 7,
    "start_time": "2024-05-31T00:25:00.972Z"
   },
   {
    "duration": 44,
    "start_time": "2024-05-31T00:25:03.030Z"
   },
   {
    "duration": 6,
    "start_time": "2024-05-31T00:25:16.054Z"
   },
   {
    "duration": 48,
    "start_time": "2024-05-31T00:25:19.464Z"
   },
   {
    "duration": 43,
    "start_time": "2024-05-31T00:25:36.205Z"
   },
   {
    "duration": 42,
    "start_time": "2024-05-31T00:25:53.438Z"
   },
   {
    "duration": 7,
    "start_time": "2024-05-31T00:25:55.106Z"
   },
   {
    "duration": 7,
    "start_time": "2024-05-31T00:25:56.420Z"
   },
   {
    "duration": 15,
    "start_time": "2024-05-31T00:25:57.241Z"
   },
   {
    "duration": 501,
    "start_time": "2024-05-31T00:31:28.376Z"
   },
   {
    "duration": 1275,
    "start_time": "2024-05-31T15:01:24.850Z"
   },
   {
    "duration": 38,
    "start_time": "2024-05-31T15:01:26.130Z"
   },
   {
    "duration": 31,
    "start_time": "2024-05-31T15:01:26.171Z"
   },
   {
    "duration": 32,
    "start_time": "2024-05-31T15:01:26.207Z"
   },
   {
    "duration": 5,
    "start_time": "2024-05-31T15:01:26.242Z"
   },
   {
    "duration": 16,
    "start_time": "2024-05-31T15:01:26.251Z"
   },
   {
    "duration": 9,
    "start_time": "2024-05-31T15:01:26.271Z"
   },
   {
    "duration": 52,
    "start_time": "2024-05-31T15:01:26.283Z"
   },
   {
    "duration": 5,
    "start_time": "2024-05-31T15:01:26.339Z"
   },
   {
    "duration": 14,
    "start_time": "2024-05-31T15:01:26.351Z"
   },
   {
    "duration": 67,
    "start_time": "2024-05-31T15:01:26.368Z"
   },
   {
    "duration": 13,
    "start_time": "2024-05-31T15:01:26.438Z"
   },
   {
    "duration": 12,
    "start_time": "2024-05-31T15:01:26.454Z"
   },
   {
    "duration": 74,
    "start_time": "2024-05-31T15:01:26.469Z"
   },
   {
    "duration": 34,
    "start_time": "2024-05-31T15:01:26.546Z"
   },
   {
    "duration": 110,
    "start_time": "2024-05-31T15:01:26.624Z"
   },
   {
    "duration": 8,
    "start_time": "2024-05-31T15:01:26.736Z"
   },
   {
    "duration": 89,
    "start_time": "2024-05-31T15:01:26.749Z"
   },
   {
    "duration": 118,
    "start_time": "2024-05-31T15:01:26.841Z"
   },
   {
    "duration": 61,
    "start_time": "2024-05-31T15:01:26.965Z"
   },
   {
    "duration": 94,
    "start_time": "2024-05-31T15:01:27.029Z"
   },
   {
    "duration": 911,
    "start_time": "2024-05-31T15:01:27.127Z"
   },
   {
    "duration": 153,
    "start_time": "2024-05-31T15:03:54.535Z"
   },
   {
    "duration": 158,
    "start_time": "2024-05-31T15:04:10.118Z"
   },
   {
    "duration": 148,
    "start_time": "2024-05-31T15:05:02.343Z"
   },
   {
    "duration": 7,
    "start_time": "2024-05-31T15:06:17.717Z"
   },
   {
    "duration": 15,
    "start_time": "2024-05-31T15:06:20.389Z"
   },
   {
    "duration": 23,
    "start_time": "2024-05-31T15:06:21.799Z"
   },
   {
    "duration": 7,
    "start_time": "2024-05-31T15:06:51.623Z"
   },
   {
    "duration": 13,
    "start_time": "2024-05-31T15:06:54.053Z"
   },
   {
    "duration": 25,
    "start_time": "2024-05-31T15:06:55.413Z"
   },
   {
    "duration": 39,
    "start_time": "2024-05-31T15:21:11.525Z"
   },
   {
    "duration": 46,
    "start_time": "2024-05-31T15:21:43.981Z"
   },
   {
    "duration": 44,
    "start_time": "2024-05-31T15:22:13.811Z"
   },
   {
    "duration": 45,
    "start_time": "2024-05-31T15:22:27.294Z"
   },
   {
    "duration": 1579,
    "start_time": "2024-05-31T15:23:06.814Z"
   },
   {
    "duration": 1975,
    "start_time": "2024-05-31T16:15:56.696Z"
   },
   {
    "duration": 594,
    "start_time": "2024-05-31T16:35:29.265Z"
   },
   {
    "duration": 595,
    "start_time": "2024-05-31T16:35:49.298Z"
   },
   {
    "duration": 572,
    "start_time": "2024-05-31T16:35:58.554Z"
   },
   {
    "duration": 10,
    "start_time": "2024-05-31T16:46:46.628Z"
   },
   {
    "duration": 31,
    "start_time": "2024-05-31T16:46:46.643Z"
   },
   {
    "duration": 46,
    "start_time": "2024-05-31T16:46:46.678Z"
   },
   {
    "duration": 17,
    "start_time": "2024-05-31T16:46:46.728Z"
   },
   {
    "duration": 5,
    "start_time": "2024-05-31T16:46:46.749Z"
   },
   {
    "duration": 17,
    "start_time": "2024-05-31T16:46:46.757Z"
   },
   {
    "duration": 6,
    "start_time": "2024-05-31T16:46:46.824Z"
   },
   {
    "duration": 17,
    "start_time": "2024-05-31T16:46:46.834Z"
   },
   {
    "duration": 6,
    "start_time": "2024-05-31T16:46:46.854Z"
   },
   {
    "duration": 59,
    "start_time": "2024-05-31T16:46:46.864Z"
   },
   {
    "duration": 27,
    "start_time": "2024-05-31T16:46:46.926Z"
   },
   {
    "duration": 14,
    "start_time": "2024-05-31T16:46:46.956Z"
   },
   {
    "duration": 51,
    "start_time": "2024-05-31T16:46:46.973Z"
   },
   {
    "duration": 38,
    "start_time": "2024-05-31T16:46:47.027Z"
   },
   {
    "duration": 60,
    "start_time": "2024-05-31T16:46:47.068Z"
   },
   {
    "duration": 109,
    "start_time": "2024-05-31T16:46:47.130Z"
   },
   {
    "duration": 84,
    "start_time": "2024-05-31T16:46:47.243Z"
   },
   {
    "duration": 15,
    "start_time": "2024-05-31T16:46:47.331Z"
   },
   {
    "duration": 119,
    "start_time": "2024-05-31T16:46:47.350Z"
   },
   {
    "duration": 56,
    "start_time": "2024-05-31T16:46:47.475Z"
   },
   {
    "duration": 14,
    "start_time": "2024-05-31T16:46:47.536Z"
   },
   {
    "duration": 105,
    "start_time": "2024-05-31T16:46:47.554Z"
   },
   {
    "duration": 1660,
    "start_time": "2024-05-31T16:46:47.724Z"
   },
   {
    "duration": 1973,
    "start_time": "2024-05-31T16:46:49.389Z"
   },
   {
    "duration": 594,
    "start_time": "2024-05-31T16:46:51.370Z"
   },
   {
    "duration": 80480,
    "start_time": "2024-05-31T16:46:51.969Z"
   },
   {
    "duration": 108584,
    "start_time": "2024-05-31T16:48:12.452Z"
   },
   {
    "duration": 5,
    "start_time": "2024-05-31T16:50:01.040Z"
   },
   {
    "duration": 29,
    "start_time": "2024-05-31T16:59:35.776Z"
   },
   {
    "duration": 36060,
    "start_time": "2024-05-31T16:59:49.758Z"
   },
   {
    "duration": 31,
    "start_time": "2024-05-31T17:00:34.114Z"
   },
   {
    "duration": 40,
    "start_time": "2024-05-31T17:00:59.299Z"
   },
   {
    "duration": 32,
    "start_time": "2024-05-31T17:01:34.767Z"
   },
   {
    "duration": 25,
    "start_time": "2024-05-31T17:01:55.488Z"
   },
   {
    "duration": 313,
    "start_time": "2024-05-31T17:02:55.834Z"
   },
   {
    "duration": 298,
    "start_time": "2024-05-31T17:03:57.408Z"
   },
   {
    "duration": 302,
    "start_time": "2024-05-31T17:05:00.473Z"
   },
   {
    "duration": 284,
    "start_time": "2024-05-31T17:05:15.971Z"
   },
   {
    "duration": 24,
    "start_time": "2024-05-31T17:05:23.223Z"
   },
   {
    "duration": 6,
    "start_time": "2024-05-31T17:05:58.098Z"
   },
   {
    "duration": 6,
    "start_time": "2024-05-31T17:06:10.259Z"
   },
   {
    "duration": 1277,
    "start_time": "2024-06-01T06:56:26.695Z"
   },
   {
    "duration": 37,
    "start_time": "2024-06-01T06:56:27.975Z"
   },
   {
    "duration": 30,
    "start_time": "2024-06-01T06:56:28.015Z"
   },
   {
    "duration": 17,
    "start_time": "2024-06-01T06:56:28.049Z"
   },
   {
    "duration": 5,
    "start_time": "2024-06-01T06:56:28.069Z"
   },
   {
    "duration": 16,
    "start_time": "2024-06-01T06:56:28.077Z"
   },
   {
    "duration": 7,
    "start_time": "2024-06-01T06:56:28.132Z"
   },
   {
    "duration": 17,
    "start_time": "2024-06-01T06:56:28.141Z"
   },
   {
    "duration": 5,
    "start_time": "2024-06-01T06:56:28.161Z"
   },
   {
    "duration": 14,
    "start_time": "2024-06-01T06:56:28.173Z"
   },
   {
    "duration": 65,
    "start_time": "2024-06-01T06:56:28.190Z"
   },
   {
    "duration": 15,
    "start_time": "2024-06-01T06:56:28.258Z"
   },
   {
    "duration": 13,
    "start_time": "2024-06-01T06:56:28.275Z"
   },
   {
    "duration": 68,
    "start_time": "2024-06-01T06:56:28.290Z"
   },
   {
    "duration": 73,
    "start_time": "2024-06-01T06:56:28.361Z"
   },
   {
    "duration": 110,
    "start_time": "2024-06-01T06:56:28.437Z"
   },
   {
    "duration": 6,
    "start_time": "2024-06-01T06:56:28.553Z"
   },
   {
    "duration": 17,
    "start_time": "2024-06-01T06:56:28.634Z"
   },
   {
    "duration": 109,
    "start_time": "2024-06-01T06:56:28.654Z"
   },
   {
    "duration": 68,
    "start_time": "2024-06-01T06:56:28.767Z"
   },
   {
    "duration": 17,
    "start_time": "2024-06-01T06:56:28.838Z"
   },
   {
    "duration": 22,
    "start_time": "2024-06-01T06:56:28.934Z"
   },
   {
    "duration": 1705,
    "start_time": "2024-06-01T06:56:28.960Z"
   },
   {
    "duration": 1904,
    "start_time": "2024-06-01T06:56:30.668Z"
   },
   {
    "duration": 545,
    "start_time": "2024-06-01T06:56:32.575Z"
   },
   {
    "duration": 75644,
    "start_time": "2024-06-01T06:56:33.123Z"
   },
   {
    "duration": 102425,
    "start_time": "2024-06-01T06:57:48.771Z"
   },
   {
    "duration": 32834,
    "start_time": "2024-06-01T06:59:31.202Z"
   },
   {
    "duration": 296,
    "start_time": "2024-06-01T07:00:04.039Z"
   },
   {
    "duration": 7,
    "start_time": "2024-06-01T07:00:04.338Z"
   },
   {
    "duration": 21,
    "start_time": "2024-06-01T07:04:34.726Z"
   },
   {
    "duration": 310,
    "start_time": "2024-06-01T17:56:07.897Z"
   },
   {
    "duration": 33,
    "start_time": "2024-06-01T17:56:32.290Z"
   },
   {
    "duration": 1242,
    "start_time": "2024-06-01T17:56:50.152Z"
   },
   {
    "duration": 31,
    "start_time": "2024-06-01T17:56:51.398Z"
   },
   {
    "duration": 32,
    "start_time": "2024-06-01T17:56:51.432Z"
   },
   {
    "duration": 16,
    "start_time": "2024-06-01T17:56:51.468Z"
   },
   {
    "duration": 5,
    "start_time": "2024-06-01T17:56:51.489Z"
   },
   {
    "duration": 53,
    "start_time": "2024-06-01T17:56:51.496Z"
   },
   {
    "duration": 7,
    "start_time": "2024-06-01T17:56:51.552Z"
   },
   {
    "duration": 17,
    "start_time": "2024-06-01T17:56:51.561Z"
   },
   {
    "duration": 5,
    "start_time": "2024-06-01T17:56:51.581Z"
   },
   {
    "duration": 16,
    "start_time": "2024-06-01T17:56:51.633Z"
   },
   {
    "duration": 25,
    "start_time": "2024-06-01T17:56:51.652Z"
   },
   {
    "duration": 14,
    "start_time": "2024-06-01T17:56:51.680Z"
   },
   {
    "duration": 44,
    "start_time": "2024-06-01T17:56:51.697Z"
   },
   {
    "duration": 38,
    "start_time": "2024-06-01T17:56:51.744Z"
   },
   {
    "duration": 68,
    "start_time": "2024-06-01T17:56:51.784Z"
   },
   {
    "duration": 104,
    "start_time": "2024-06-01T17:56:51.854Z"
   },
   {
    "duration": 72,
    "start_time": "2024-06-01T17:56:51.964Z"
   },
   {
    "duration": 17,
    "start_time": "2024-06-01T17:56:52.043Z"
   },
   {
    "duration": 41,
    "start_time": "2024-06-01T17:56:52.138Z"
   },
   {
    "duration": 11,
    "start_time": "2024-06-01T17:56:52.233Z"
   },
   {
    "duration": 91,
    "start_time": "2024-06-01T17:56:52.248Z"
   },
   {
    "duration": 25,
    "start_time": "2024-06-01T17:56:52.342Z"
   },
   {
    "duration": 1686,
    "start_time": "2024-06-01T17:56:52.373Z"
   },
   {
    "duration": 1886,
    "start_time": "2024-06-01T17:56:54.061Z"
   },
   {
    "duration": 624,
    "start_time": "2024-06-01T17:56:55.951Z"
   },
   {
    "duration": 171,
    "start_time": "2024-06-01T17:56:56.578Z"
   },
   {
    "duration": 0,
    "start_time": "2024-06-01T17:56:56.754Z"
   },
   {
    "duration": 0,
    "start_time": "2024-06-01T17:56:56.765Z"
   },
   {
    "duration": 0,
    "start_time": "2024-06-01T17:56:56.767Z"
   },
   {
    "duration": 0,
    "start_time": "2024-06-01T17:56:56.770Z"
   },
   {
    "duration": 7,
    "start_time": "2024-06-01T17:57:06.404Z"
   },
   {
    "duration": 48,
    "start_time": "2024-06-01T17:57:23.341Z"
   },
   {
    "duration": 847,
    "start_time": "2024-06-01T17:57:57.965Z"
   },
   {
    "duration": 81,
    "start_time": "2024-06-01T17:58:07.823Z"
   },
   {
    "duration": 41,
    "start_time": "2024-06-01T18:01:04.698Z"
   },
   {
    "duration": 575,
    "start_time": "2024-06-01T18:01:11.496Z"
   },
   {
    "duration": 39,
    "start_time": "2024-06-01T18:01:15.318Z"
   },
   {
    "duration": 77887,
    "start_time": "2024-06-01T18:01:34.058Z"
   },
   {
    "duration": 104238,
    "start_time": "2024-06-01T18:02:51.949Z"
   },
   {
    "duration": 33913,
    "start_time": "2024-06-01T18:04:36.190Z"
   },
   {
    "duration": 290,
    "start_time": "2024-06-01T18:05:10.106Z"
   },
   {
    "duration": 33,
    "start_time": "2024-06-01T18:05:10.402Z"
   },
   {
    "duration": 24,
    "start_time": "2024-06-01T19:16:52.765Z"
   },
   {
    "duration": 23,
    "start_time": "2024-06-01T19:17:15.668Z"
   },
   {
    "duration": 8,
    "start_time": "2024-06-01T19:17:18.748Z"
   },
   {
    "duration": 22,
    "start_time": "2024-06-01T19:17:20.033Z"
   },
   {
    "duration": 26,
    "start_time": "2024-06-01T19:17:41.294Z"
   },
   {
    "duration": 24,
    "start_time": "2024-06-01T19:17:52.081Z"
   },
   {
    "duration": 12,
    "start_time": "2024-06-01T19:17:58.416Z"
   },
   {
    "duration": 44,
    "start_time": "2024-06-01T19:19:06.924Z"
   },
   {
    "duration": 48,
    "start_time": "2024-06-01T19:19:31.317Z"
   },
   {
    "duration": 14,
    "start_time": "2024-06-01T19:19:44.839Z"
   },
   {
    "duration": 44,
    "start_time": "2024-06-01T19:24:31.086Z"
   },
   {
    "duration": 39,
    "start_time": "2024-06-01T19:25:22.359Z"
   },
   {
    "duration": 6,
    "start_time": "2024-06-01T19:32:15.232Z"
   },
   {
    "duration": 26,
    "start_time": "2024-06-01T19:32:15.241Z"
   },
   {
    "duration": 22,
    "start_time": "2024-06-01T19:32:15.271Z"
   },
   {
    "duration": 41,
    "start_time": "2024-06-01T19:32:15.296Z"
   },
   {
    "duration": 6,
    "start_time": "2024-06-01T19:32:15.340Z"
   },
   {
    "duration": 17,
    "start_time": "2024-06-01T19:32:15.349Z"
   },
   {
    "duration": 6,
    "start_time": "2024-06-01T19:32:15.369Z"
   },
   {
    "duration": 57,
    "start_time": "2024-06-01T19:32:15.380Z"
   },
   {
    "duration": 5,
    "start_time": "2024-06-01T19:32:15.444Z"
   },
   {
    "duration": 16,
    "start_time": "2024-06-01T19:32:15.452Z"
   },
   {
    "duration": 68,
    "start_time": "2024-06-01T19:32:15.471Z"
   },
   {
    "duration": 15,
    "start_time": "2024-06-01T19:32:15.542Z"
   },
   {
    "duration": 12,
    "start_time": "2024-06-01T19:32:15.560Z"
   },
   {
    "duration": 72,
    "start_time": "2024-06-01T19:32:15.575Z"
   },
   {
    "duration": 34,
    "start_time": "2024-06-01T19:32:15.650Z"
   },
   {
    "duration": 154,
    "start_time": "2024-06-01T19:32:15.687Z"
   },
   {
    "duration": 8,
    "start_time": "2024-06-01T19:32:15.845Z"
   },
   {
    "duration": 87,
    "start_time": "2024-06-01T19:32:15.856Z"
   },
   {
    "duration": 118,
    "start_time": "2024-06-01T19:32:15.946Z"
   },
   {
    "duration": 67,
    "start_time": "2024-06-01T19:32:16.067Z"
   },
   {
    "duration": 14,
    "start_time": "2024-06-01T19:32:16.138Z"
   },
   {
    "duration": 96,
    "start_time": "2024-06-01T19:32:16.155Z"
   },
   {
    "duration": 1692,
    "start_time": "2024-06-01T19:32:16.254Z"
   },
   {
    "duration": 1884,
    "start_time": "2024-06-01T19:32:17.949Z"
   },
   {
    "duration": 569,
    "start_time": "2024-06-01T19:32:19.836Z"
   },
   {
    "duration": 77731,
    "start_time": "2024-06-01T19:32:20.408Z"
   },
   {
    "duration": 65,
    "start_time": "2024-06-01T19:33:38.145Z"
   },
   {
    "duration": 0,
    "start_time": "2024-06-01T19:33:38.213Z"
   },
   {
    "duration": 0,
    "start_time": "2024-06-01T19:33:38.232Z"
   },
   {
    "duration": 0,
    "start_time": "2024-06-01T19:33:38.234Z"
   },
   {
    "duration": 0,
    "start_time": "2024-06-01T19:33:38.237Z"
   },
   {
    "duration": 63,
    "start_time": "2024-06-01T22:50:00.780Z"
   },
   {
    "duration": 7,
    "start_time": "2024-06-01T22:51:49.694Z"
   },
   {
    "duration": 309,
    "start_time": "2024-06-01T22:52:15.290Z"
   },
   {
    "duration": 290,
    "start_time": "2024-06-01T22:52:23.919Z"
   },
   {
    "duration": 302,
    "start_time": "2024-06-01T22:52:34.009Z"
   },
   {
    "duration": 36967,
    "start_time": "2024-06-01T22:52:56.216Z"
   },
   {
    "duration": 113403,
    "start_time": "2024-06-01T22:57:24.299Z"
   },
   {
    "duration": 1280,
    "start_time": "2024-06-02T04:23:09.072Z"
   },
   {
    "duration": 42,
    "start_time": "2024-06-02T04:23:10.356Z"
   },
   {
    "duration": 40,
    "start_time": "2024-06-02T04:23:10.401Z"
   },
   {
    "duration": 18,
    "start_time": "2024-06-02T04:23:10.445Z"
   },
   {
    "duration": 11,
    "start_time": "2024-06-02T04:23:10.466Z"
   },
   {
    "duration": 52,
    "start_time": "2024-06-02T04:23:10.480Z"
   },
   {
    "duration": 8,
    "start_time": "2024-06-02T04:23:10.538Z"
   },
   {
    "duration": 20,
    "start_time": "2024-06-02T04:23:10.549Z"
   },
   {
    "duration": 7,
    "start_time": "2024-06-02T04:23:10.572Z"
   },
   {
    "duration": 55,
    "start_time": "2024-06-02T04:23:10.586Z"
   },
   {
    "duration": 29,
    "start_time": "2024-06-02T04:23:10.644Z"
   },
   {
    "duration": 16,
    "start_time": "2024-06-02T04:23:10.675Z"
   },
   {
    "duration": 16,
    "start_time": "2024-06-02T04:23:10.730Z"
   },
   {
    "duration": 46,
    "start_time": "2024-06-02T04:23:10.749Z"
   },
   {
    "duration": 77,
    "start_time": "2024-06-02T04:23:10.798Z"
   },
   {
    "duration": 118,
    "start_time": "2024-06-02T04:23:10.932Z"
   },
   {
    "duration": 16,
    "start_time": "2024-06-02T04:23:11.053Z"
   },
   {
    "duration": 60,
    "start_time": "2024-06-02T04:23:11.075Z"
   },
   {
    "duration": 118,
    "start_time": "2024-06-02T04:23:11.138Z"
   },
   {
    "duration": 73,
    "start_time": "2024-06-02T04:23:11.259Z"
   },
   {
    "duration": 25,
    "start_time": "2024-06-02T04:23:11.337Z"
   },
   {
    "duration": 98,
    "start_time": "2024-06-02T04:23:11.431Z"
   },
   {
    "duration": 1729,
    "start_time": "2024-06-02T04:23:11.533Z"
   },
   {
    "duration": 1932,
    "start_time": "2024-06-02T04:23:13.266Z"
   },
   {
    "duration": 606,
    "start_time": "2024-06-02T04:23:15.202Z"
   },
   {
    "duration": 81097,
    "start_time": "2024-06-02T04:23:15.812Z"
   },
   {
    "duration": 114172,
    "start_time": "2024-06-02T04:24:36.912Z"
   },
   {
    "duration": 41899,
    "start_time": "2024-06-02T04:26:31.092Z"
   },
   {
    "duration": 310,
    "start_time": "2024-06-02T04:27:12.993Z"
   },
   {
    "duration": 27,
    "start_time": "2024-06-02T04:27:13.306Z"
   },
   {
    "duration": 112484,
    "start_time": "2024-06-02T04:28:20.848Z"
   },
   {
    "duration": 77530,
    "start_time": "2024-06-02T04:35:24.100Z"
   },
   {
    "duration": 108623,
    "start_time": "2024-06-02T04:36:41.634Z"
   },
   {
    "duration": 617,
    "start_time": "2024-06-02T04:38:30.262Z"
   },
   {
    "duration": 53,
    "start_time": "2024-06-02T04:42:25.527Z"
   },
   {
    "duration": 43,
    "start_time": "2024-06-02T04:42:31.624Z"
   },
   {
    "duration": 48,
    "start_time": "2024-06-02T04:42:40.568Z"
   },
   {
    "duration": 1600,
    "start_time": "2024-06-02T04:42:50.513Z"
   },
   {
    "duration": 1567,
    "start_time": "2024-06-02T04:52:14.600Z"
   },
   {
    "duration": 1501,
    "start_time": "2024-06-02T05:09:14.642Z"
   },
   {
    "duration": 1887,
    "start_time": "2024-06-02T05:09:46.894Z"
   },
   {
    "duration": 1295,
    "start_time": "2024-06-02T21:14:11.320Z"
   },
   {
    "duration": 31,
    "start_time": "2024-06-02T21:14:12.619Z"
   },
   {
    "duration": 30,
    "start_time": "2024-06-02T21:14:12.652Z"
   },
   {
    "duration": 16,
    "start_time": "2024-06-02T21:14:12.687Z"
   },
   {
    "duration": 30,
    "start_time": "2024-06-02T21:14:12.706Z"
   },
   {
    "duration": 16,
    "start_time": "2024-06-02T21:14:12.739Z"
   },
   {
    "duration": 9,
    "start_time": "2024-06-02T21:14:12.758Z"
   },
   {
    "duration": 17,
    "start_time": "2024-06-02T21:14:12.769Z"
   },
   {
    "duration": 46,
    "start_time": "2024-06-02T21:14:12.789Z"
   },
   {
    "duration": 15,
    "start_time": "2024-06-02T21:14:12.842Z"
   },
   {
    "duration": 26,
    "start_time": "2024-06-02T21:14:12.860Z"
   },
   {
    "duration": 50,
    "start_time": "2024-06-02T21:14:12.889Z"
   },
   {
    "duration": 12,
    "start_time": "2024-06-02T21:14:12.942Z"
   },
   {
    "duration": 39,
    "start_time": "2024-06-02T21:14:12.957Z"
   },
   {
    "duration": 65,
    "start_time": "2024-06-02T21:14:12.999Z"
   },
   {
    "duration": 175,
    "start_time": "2024-06-02T21:14:13.067Z"
   },
   {
    "duration": 9,
    "start_time": "2024-06-02T21:14:13.245Z"
   },
   {
    "duration": 87,
    "start_time": "2024-06-02T21:14:13.256Z"
   },
   {
    "duration": 109,
    "start_time": "2024-06-02T21:14:13.345Z"
   },
   {
    "duration": 78,
    "start_time": "2024-06-02T21:14:13.458Z"
   },
   {
    "duration": 13,
    "start_time": "2024-06-02T21:14:13.539Z"
   },
   {
    "duration": 98,
    "start_time": "2024-06-02T21:14:13.557Z"
   },
   {
    "duration": 1698,
    "start_time": "2024-06-02T21:14:13.658Z"
   },
   {
    "duration": 1898,
    "start_time": "2024-06-02T21:14:15.358Z"
   },
   {
    "duration": 584,
    "start_time": "2024-06-02T21:14:17.259Z"
   },
   {
    "duration": 1897,
    "start_time": "2024-06-02T21:14:17.846Z"
   },
   {
    "duration": 94191,
    "start_time": "2024-06-02T21:14:19.747Z"
   },
   {
    "duration": 104094,
    "start_time": "2024-06-02T21:15:53.946Z"
   },
   {
    "duration": 33358,
    "start_time": "2024-06-02T21:17:38.043Z"
   },
   {
    "duration": 302,
    "start_time": "2024-06-02T21:18:11.404Z"
   },
   {
    "duration": 5,
    "start_time": "2024-06-02T21:18:11.734Z"
   },
   {
    "duration": 251,
    "start_time": "2024-06-02T21:19:49.197Z"
   },
   {
    "duration": 106299,
    "start_time": "2024-06-02T21:32:12.536Z"
   },
   {
    "duration": 5,
    "start_time": "2024-06-02T21:40:06.574Z"
   },
   {
    "duration": 240,
    "start_time": "2024-06-02T21:40:12.471Z"
   },
   {
    "duration": 1118,
    "start_time": "2024-06-02T21:40:34.700Z"
   },
   {
    "duration": 2243,
    "start_time": "2024-06-02T21:40:40.413Z"
   },
   {
    "duration": 5558,
    "start_time": "2024-06-02T21:40:47.884Z"
   },
   {
    "duration": 4731,
    "start_time": "2024-06-02T21:41:04.491Z"
   },
   {
    "duration": 4685,
    "start_time": "2024-06-02T21:41:37.251Z"
   },
   {
    "duration": 976,
    "start_time": "2024-06-02T21:42:11.485Z"
   },
   {
    "duration": 279,
    "start_time": "2024-06-02T21:43:09.461Z"
   },
   {
    "duration": 5,
    "start_time": "2024-06-02T21:43:15.311Z"
   },
   {
    "duration": 237,
    "start_time": "2024-06-02T21:43:27.664Z"
   },
   {
    "duration": 5,
    "start_time": "2024-06-02T21:43:38.358Z"
   },
   {
    "duration": 270,
    "start_time": "2024-06-02T21:43:53.411Z"
   },
   {
    "duration": 5,
    "start_time": "2024-06-02T21:43:56.949Z"
   },
   {
    "duration": 270,
    "start_time": "2024-06-02T21:44:09.368Z"
   },
   {
    "duration": 265,
    "start_time": "2024-06-02T21:44:13.570Z"
   },
   {
    "duration": 105648,
    "start_time": "2024-06-03T01:22:42.389Z"
   },
   {
    "duration": 33004,
    "start_time": "2024-06-03T01:30:29.084Z"
   },
   {
    "duration": 1239,
    "start_time": "2024-06-03T17:02:25.839Z"
   },
   {
    "duration": 38,
    "start_time": "2024-06-03T17:02:27.082Z"
   },
   {
    "duration": 30,
    "start_time": "2024-06-03T17:02:27.122Z"
   },
   {
    "duration": 17,
    "start_time": "2024-06-03T17:02:27.156Z"
   },
   {
    "duration": 5,
    "start_time": "2024-06-03T17:02:27.176Z"
   },
   {
    "duration": 57,
    "start_time": "2024-06-03T17:02:27.184Z"
   },
   {
    "duration": 7,
    "start_time": "2024-06-03T17:02:27.244Z"
   },
   {
    "duration": 15,
    "start_time": "2024-06-03T17:02:27.255Z"
   },
   {
    "duration": 5,
    "start_time": "2024-06-03T17:02:27.274Z"
   },
   {
    "duration": 52,
    "start_time": "2024-06-03T17:02:27.285Z"
   },
   {
    "duration": 26,
    "start_time": "2024-06-03T17:02:27.339Z"
   },
   {
    "duration": 14,
    "start_time": "2024-06-03T17:02:27.368Z"
   },
   {
    "duration": 51,
    "start_time": "2024-06-03T17:02:27.385Z"
   },
   {
    "duration": 42,
    "start_time": "2024-06-03T17:02:27.443Z"
   },
   {
    "duration": 54,
    "start_time": "2024-06-03T17:02:27.488Z"
   },
   {
    "duration": 102,
    "start_time": "2024-06-03T17:02:27.544Z"
   },
   {
    "duration": 84,
    "start_time": "2024-06-03T17:02:27.649Z"
   },
   {
    "duration": 14,
    "start_time": "2024-06-03T17:02:27.739Z"
   },
   {
    "duration": 41,
    "start_time": "2024-06-03T17:02:27.831Z"
   },
   {
    "duration": 7,
    "start_time": "2024-06-03T17:02:27.930Z"
   },
   {
    "duration": 12,
    "start_time": "2024-06-03T17:02:27.941Z"
   },
   {
    "duration": 95,
    "start_time": "2024-06-03T17:02:27.955Z"
   },
   {
    "duration": 1683,
    "start_time": "2024-06-03T17:02:28.053Z"
   },
   {
    "duration": 1876,
    "start_time": "2024-06-03T17:02:29.740Z"
   },
   {
    "duration": 604,
    "start_time": "2024-06-03T17:02:31.618Z"
   },
   {
    "duration": 1913,
    "start_time": "2024-06-03T17:02:32.225Z"
   },
   {
    "duration": 92487,
    "start_time": "2024-06-03T17:02:34.141Z"
   },
   {
    "duration": 103001,
    "start_time": "2024-06-03T17:04:06.636Z"
   },
   {
    "duration": 33029,
    "start_time": "2024-06-03T17:05:49.640Z"
   },
   {
    "duration": 273,
    "start_time": "2024-06-03T17:06:22.673Z"
   },
   {
    "duration": 6,
    "start_time": "2024-06-03T17:06:22.949Z"
   },
   {
    "duration": 4099,
    "start_time": "2024-06-03T17:16:57.013Z"
   },
   {
    "duration": 5341,
    "start_time": "2024-06-03T17:17:37.785Z"
   },
   {
    "duration": 1988,
    "start_time": "2024-06-03T17:19:32.207Z"
   },
   {
    "duration": 2060,
    "start_time": "2024-06-03T17:19:38.640Z"
   },
   {
    "duration": 53376,
    "start_time": "2024-06-03T17:21:00.959Z"
   },
   {
    "duration": 544,
    "start_time": "2024-06-03T17:40:10.988Z"
   },
   {
    "duration": 30,
    "start_time": "2024-06-03T17:42:11.020Z"
   },
   {
    "duration": 27,
    "start_time": "2024-06-03T17:43:19.900Z"
   },
   {
    "duration": 703,
    "start_time": "2024-06-03T17:43:26.943Z"
   },
   {
    "duration": 25,
    "start_time": "2024-06-03T17:44:24.789Z"
   },
   {
    "duration": 603,
    "start_time": "2024-06-03T17:44:28.970Z"
   },
   {
    "duration": 526,
    "start_time": "2024-06-03T17:55:05.206Z"
   },
   {
    "duration": 37,
    "start_time": "2024-06-03T17:57:42.390Z"
   },
   {
    "duration": 828,
    "start_time": "2024-06-03T17:58:11.557Z"
   },
   {
    "duration": 7543,
    "start_time": "2024-06-03T17:58:24.341Z"
   },
   {
    "duration": 38,
    "start_time": "2024-06-03T18:01:46.935Z"
   },
   {
    "duration": 207,
    "start_time": "2024-06-03T18:02:09.686Z"
   },
   {
    "duration": 227,
    "start_time": "2024-06-03T18:02:26.981Z"
   },
   {
    "duration": 214,
    "start_time": "2024-06-03T18:07:56.137Z"
   },
   {
    "duration": 224,
    "start_time": "2024-06-03T18:10:37.307Z"
   },
   {
    "duration": 27,
    "start_time": "2024-06-03T18:17:21.085Z"
   },
   {
    "duration": 52205,
    "start_time": "2024-06-03T18:17:43.629Z"
   },
   {
    "duration": 26,
    "start_time": "2024-06-03T18:18:55.664Z"
   },
   {
    "duration": 594,
    "start_time": "2024-06-03T18:20:08.352Z"
   }
  ],
  "kernelspec": {
   "display_name": "Python 3 (ipykernel)",
   "language": "python",
   "name": "python3"
  },
  "language_info": {
   "codemirror_mode": {
    "name": "ipython",
    "version": 3
   },
   "file_extension": ".py",
   "mimetype": "text/x-python",
   "name": "python",
   "nbconvert_exporter": "python",
   "pygments_lexer": "ipython3",
   "version": "3.9.19"
  },
  "toc": {
   "base_numbering": 1,
   "nav_menu": {},
   "number_sections": true,
   "sideBar": true,
   "skip_h1_title": true,
   "title_cell": "Table of Contents",
   "title_sidebar": "Contents",
   "toc_cell": false,
   "toc_position": {},
   "toc_section_display": true,
   "toc_window_display": false
  }
 },
 "nbformat": 4,
 "nbformat_minor": 2
}
